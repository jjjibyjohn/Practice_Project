{
 "cells": [
  {
   "cell_type": "code",
   "execution_count": 1,
   "id": "a8f76852",
   "metadata": {},
   "outputs": [],
   "source": [
    "from bs4 import BeautifulSoup"
   ]
  },
  {
   "cell_type": "code",
   "execution_count": 2,
   "id": "0d081276",
   "metadata": {},
   "outputs": [],
   "source": [
    "import requests"
   ]
  },
  {
   "cell_type": "code",
   "execution_count": 3,
   "id": "654543b4",
   "metadata": {},
   "outputs": [],
   "source": [
    "import pandas as pd"
   ]
  },
  {
   "cell_type": "markdown",
   "id": "88a91fb2",
   "metadata": {},
   "source": [
    "# 5.(a) Top 10 ODI teams in men’s cricket along with the records for matches, points and rating"
   ]
  },
  {
   "cell_type": "code",
   "execution_count": 4,
   "id": "bb66cf28",
   "metadata": {},
   "outputs": [],
   "source": [
    "url = 'https://www.icc-cricket.com/rankings/mens/team-rankings/odi'"
   ]
  },
  {
   "cell_type": "code",
   "execution_count": 5,
   "id": "20da80cb",
   "metadata": {},
   "outputs": [],
   "source": [
    "site = requests.get(url)"
   ]
  },
  {
   "cell_type": "code",
   "execution_count": 6,
   "id": "2bb36dc6",
   "metadata": {},
   "outputs": [],
   "source": [
    "bs = BeautifulSoup(site.content)"
   ]
  },
  {
   "cell_type": "code",
   "execution_count": 7,
   "id": "3a179f6d",
   "metadata": {},
   "outputs": [],
   "source": [
    "teamA = []"
   ]
  },
  {
   "cell_type": "code",
   "execution_count": 8,
   "id": "9b4f9d8b",
   "metadata": {},
   "outputs": [],
   "source": [
    "b=0\n",
    "for i in bs.find_all('span',class_='u-hide-phablet'):\n",
    "    if(b<10):\n",
    "        teamA.append(i.text)\n",
    "        b+=1\n",
    "    else:\n",
    "        break"
   ]
  },
  {
   "cell_type": "code",
   "execution_count": 9,
   "id": "ed50382e",
   "metadata": {},
   "outputs": [
    {
     "data": {
      "text/plain": [
       "['New Zealand',\n",
       " 'England',\n",
       " 'Australia',\n",
       " 'India',\n",
       " 'South Africa',\n",
       " 'Pakistan',\n",
       " 'Bangladesh',\n",
       " 'West Indies',\n",
       " 'Sri Lanka',\n",
       " 'Afghanistan']"
      ]
     },
     "execution_count": 9,
     "metadata": {},
     "output_type": "execute_result"
    }
   ],
   "source": [
    "teamA"
   ]
  },
  {
   "cell_type": "code",
   "execution_count": 10,
   "id": "ef8ae161",
   "metadata": {},
   "outputs": [],
   "source": [
    "matchesA = []"
   ]
  },
  {
   "cell_type": "code",
   "execution_count": 11,
   "id": "b78d2917",
   "metadata": {},
   "outputs": [],
   "source": [
    "i = bs.find('td',class_='rankings-block__banner--matches')"
   ]
  },
  {
   "cell_type": "code",
   "execution_count": 12,
   "id": "9eaf71df",
   "metadata": {},
   "outputs": [],
   "source": [
    "matchesA.append(i.text)"
   ]
  },
  {
   "cell_type": "code",
   "execution_count": 13,
   "id": "9e1a35f0",
   "metadata": {},
   "outputs": [],
   "source": [
    "b=1\n",
    "for i in bs.find_all('tr',class_='table-body'):\n",
    "    if(b<10):\n",
    "        child = i.find_all('td',class_='table-body__cell u-center-text')\n",
    "        matchesA.append(child[0].text)\n",
    "        b+=1\n",
    "    else:\n",
    "        break"
   ]
  },
  {
   "cell_type": "code",
   "execution_count": 14,
   "id": "7afac685",
   "metadata": {},
   "outputs": [
    {
     "data": {
      "text/plain": [
       "['17', '32', '28', '32', '25', '27', '30', '30', '32', '17']"
      ]
     },
     "execution_count": 14,
     "metadata": {},
     "output_type": "execute_result"
    }
   ],
   "source": [
    "matchesA"
   ]
  },
  {
   "cell_type": "code",
   "execution_count": 15,
   "id": "92a46711",
   "metadata": {},
   "outputs": [],
   "source": [
    "pointsA = []"
   ]
  },
  {
   "cell_type": "code",
   "execution_count": 16,
   "id": "3e068f14",
   "metadata": {},
   "outputs": [],
   "source": [
    "i = bs.find('td',class_='rankings-block__banner--points')"
   ]
  },
  {
   "cell_type": "code",
   "execution_count": 17,
   "id": "e14889be",
   "metadata": {},
   "outputs": [],
   "source": [
    "pointsA.append(i.text)"
   ]
  },
  {
   "cell_type": "code",
   "execution_count": 18,
   "id": "9d0a285e",
   "metadata": {},
   "outputs": [],
   "source": [
    "b=1\n",
    "for i in bs.find_all('tr',class_='table-body'):\n",
    "    if(b<10):\n",
    "        child = i.find_all('td',class_='table-body__cell u-center-text')\n",
    "        pointsA.append(child[1].text)\n",
    "        b+=1\n",
    "    else:\n",
    "        break"
   ]
  },
  {
   "cell_type": "code",
   "execution_count": 19,
   "id": "17521b0e",
   "metadata": {},
   "outputs": [
    {
     "data": {
      "text/plain": [
       "['2,054',\n",
       " '3,793',\n",
       " '3,244',\n",
       " '3,624',\n",
       " '2,459',\n",
       " '2,524',\n",
       " '2,740',\n",
       " '2,523',\n",
       " '2,657',\n",
       " '1,054']"
      ]
     },
     "execution_count": 19,
     "metadata": {},
     "output_type": "execute_result"
    }
   ],
   "source": [
    "pointsA"
   ]
  },
  {
   "cell_type": "code",
   "execution_count": 20,
   "id": "f26f8be3",
   "metadata": {},
   "outputs": [],
   "source": [
    "ratingsA = []"
   ]
  },
  {
   "cell_type": "code",
   "execution_count": 21,
   "id": "d390005e",
   "metadata": {},
   "outputs": [],
   "source": [
    "i = bs.find('td',class_='rankings-block__banner--rating u-text-right')"
   ]
  },
  {
   "cell_type": "code",
   "execution_count": 22,
   "id": "d1ae5bba",
   "metadata": {},
   "outputs": [],
   "source": [
    "ratingsA.append(i.text.strip())"
   ]
  },
  {
   "cell_type": "code",
   "execution_count": 23,
   "id": "2245f726",
   "metadata": {},
   "outputs": [],
   "source": [
    "b=1\n",
    "for i in bs.find_all('td',class_='table-body__cell u-text-right rating'):\n",
    "    if(b<10):\n",
    "        ratingsA.append(i.text)\n",
    "        b+=1\n",
    "    else:\n",
    "        break"
   ]
  },
  {
   "cell_type": "code",
   "execution_count": 24,
   "id": "db2250dc",
   "metadata": {},
   "outputs": [
    {
     "data": {
      "text/plain": [
       "['121', '119', '116', '113', '98', '93', '91', '84', '83', '62']"
      ]
     },
     "execution_count": 24,
     "metadata": {},
     "output_type": "execute_result"
    }
   ],
   "source": [
    "ratingsA"
   ]
  },
  {
   "cell_type": "code",
   "execution_count": 25,
   "id": "358aaf6c",
   "metadata": {},
   "outputs": [
    {
     "name": "stdout",
     "output_type": "stream",
     "text": [
      "10 10 10 10\n"
     ]
    }
   ],
   "source": [
    "print(len(teamA),len(matchesA),len(pointsA),len(ratingsA))"
   ]
  },
  {
   "cell_type": "code",
   "execution_count": 26,
   "id": "c80a18e7",
   "metadata": {},
   "outputs": [],
   "source": [
    "df = pd.DataFrame({'Team':teamA,'Matches':matchesA,'Points':pointsA,'Rating':ratingsA})"
   ]
  },
  {
   "cell_type": "code",
   "execution_count": 27,
   "id": "3900f952",
   "metadata": {},
   "outputs": [
    {
     "data": {
      "text/html": [
       "<div>\n",
       "<style scoped>\n",
       "    .dataframe tbody tr th:only-of-type {\n",
       "        vertical-align: middle;\n",
       "    }\n",
       "\n",
       "    .dataframe tbody tr th {\n",
       "        vertical-align: top;\n",
       "    }\n",
       "\n",
       "    .dataframe thead th {\n",
       "        text-align: right;\n",
       "    }\n",
       "</style>\n",
       "<table border=\"1\" class=\"dataframe\">\n",
       "  <thead>\n",
       "    <tr style=\"text-align: right;\">\n",
       "      <th></th>\n",
       "      <th>Team</th>\n",
       "      <th>Matches</th>\n",
       "      <th>Points</th>\n",
       "      <th>Rating</th>\n",
       "    </tr>\n",
       "  </thead>\n",
       "  <tbody>\n",
       "    <tr>\n",
       "      <th>0</th>\n",
       "      <td>New Zealand</td>\n",
       "      <td>17</td>\n",
       "      <td>2,054</td>\n",
       "      <td>121</td>\n",
       "    </tr>\n",
       "    <tr>\n",
       "      <th>1</th>\n",
       "      <td>England</td>\n",
       "      <td>32</td>\n",
       "      <td>3,793</td>\n",
       "      <td>119</td>\n",
       "    </tr>\n",
       "    <tr>\n",
       "      <th>2</th>\n",
       "      <td>Australia</td>\n",
       "      <td>28</td>\n",
       "      <td>3,244</td>\n",
       "      <td>116</td>\n",
       "    </tr>\n",
       "    <tr>\n",
       "      <th>3</th>\n",
       "      <td>India</td>\n",
       "      <td>32</td>\n",
       "      <td>3,624</td>\n",
       "      <td>113</td>\n",
       "    </tr>\n",
       "    <tr>\n",
       "      <th>4</th>\n",
       "      <td>South Africa</td>\n",
       "      <td>25</td>\n",
       "      <td>2,459</td>\n",
       "      <td>98</td>\n",
       "    </tr>\n",
       "    <tr>\n",
       "      <th>5</th>\n",
       "      <td>Pakistan</td>\n",
       "      <td>27</td>\n",
       "      <td>2,524</td>\n",
       "      <td>93</td>\n",
       "    </tr>\n",
       "    <tr>\n",
       "      <th>6</th>\n",
       "      <td>Bangladesh</td>\n",
       "      <td>30</td>\n",
       "      <td>2,740</td>\n",
       "      <td>91</td>\n",
       "    </tr>\n",
       "    <tr>\n",
       "      <th>7</th>\n",
       "      <td>West Indies</td>\n",
       "      <td>30</td>\n",
       "      <td>2,523</td>\n",
       "      <td>84</td>\n",
       "    </tr>\n",
       "    <tr>\n",
       "      <th>8</th>\n",
       "      <td>Sri Lanka</td>\n",
       "      <td>32</td>\n",
       "      <td>2,657</td>\n",
       "      <td>83</td>\n",
       "    </tr>\n",
       "    <tr>\n",
       "      <th>9</th>\n",
       "      <td>Afghanistan</td>\n",
       "      <td>17</td>\n",
       "      <td>1,054</td>\n",
       "      <td>62</td>\n",
       "    </tr>\n",
       "  </tbody>\n",
       "</table>\n",
       "</div>"
      ],
      "text/plain": [
       "           Team Matches Points Rating\n",
       "0   New Zealand      17  2,054    121\n",
       "1       England      32  3,793    119\n",
       "2     Australia      28  3,244    116\n",
       "3         India      32  3,624    113\n",
       "4  South Africa      25  2,459     98\n",
       "5      Pakistan      27  2,524     93\n",
       "6    Bangladesh      30  2,740     91\n",
       "7   West Indies      30  2,523     84\n",
       "8     Sri Lanka      32  2,657     83\n",
       "9   Afghanistan      17  1,054     62"
      ]
     },
     "execution_count": 27,
     "metadata": {},
     "output_type": "execute_result"
    }
   ],
   "source": [
    "df"
   ]
  },
  {
   "cell_type": "markdown",
   "id": "0c2a2e40",
   "metadata": {},
   "source": [
    "# 5.(b) Top 10 ODI Batsmen along with the records of their team and rating# "
   ]
  },
  {
   "cell_type": "code",
   "execution_count": 28,
   "id": "1bb88ea3",
   "metadata": {},
   "outputs": [],
   "source": [
    "url2 = 'https://www.icc-cricket.com/rankings/mens/player-rankings/odi/batting'"
   ]
  },
  {
   "cell_type": "code",
   "execution_count": 29,
   "id": "876fb30a",
   "metadata": {},
   "outputs": [],
   "source": [
    "site2 = requests.get(url2)"
   ]
  },
  {
   "cell_type": "code",
   "execution_count": 30,
   "id": "47275b35",
   "metadata": {},
   "outputs": [],
   "source": [
    "bs2 = BeautifulSoup(site2.content)"
   ]
  },
  {
   "cell_type": "code",
   "execution_count": 31,
   "id": "44f0d176",
   "metadata": {},
   "outputs": [],
   "source": [
    "nameB = []"
   ]
  },
  {
   "cell_type": "code",
   "execution_count": 32,
   "id": "e6eef8d7",
   "metadata": {},
   "outputs": [],
   "source": [
    "i = bs2.find('div',class_='rankings-block__banner--name-large')"
   ]
  },
  {
   "cell_type": "code",
   "execution_count": 33,
   "id": "87027e35",
   "metadata": {},
   "outputs": [],
   "source": [
    "nameB.append(i.text)"
   ]
  },
  {
   "cell_type": "code",
   "execution_count": 34,
   "id": "ae01119a",
   "metadata": {},
   "outputs": [],
   "source": [
    "b=1\n",
    "for i in bs2.find_all('td',class_='table-body__cell rankings-table__name name'):\n",
    "    if(b<10):\n",
    "        nameB.append(i.text.strip())\n",
    "        b+=1\n",
    "    else:\n",
    "        break"
   ]
  },
  {
   "cell_type": "code",
   "execution_count": 35,
   "id": "8d13047b",
   "metadata": {},
   "outputs": [
    {
     "data": {
      "text/plain": [
       "['Babar Azam',\n",
       " 'Virat Kohli',\n",
       " 'Rohit Sharma',\n",
       " 'Ross Taylor',\n",
       " 'Aaron Finch',\n",
       " 'Jonny Bairstow',\n",
       " 'David Warner',\n",
       " 'Shai Hope',\n",
       " 'Kane Williamson',\n",
       " 'Quinton de Kock']"
      ]
     },
     "execution_count": 35,
     "metadata": {},
     "output_type": "execute_result"
    }
   ],
   "source": [
    "nameB"
   ]
  },
  {
   "cell_type": "code",
   "execution_count": 36,
   "id": "f7333242",
   "metadata": {},
   "outputs": [],
   "source": [
    "teamB = []"
   ]
  },
  {
   "cell_type": "code",
   "execution_count": 37,
   "id": "dac3b3b5",
   "metadata": {},
   "outputs": [],
   "source": [
    "i = bs2.find('div',class_='rankings-block__banner--nationality')"
   ]
  },
  {
   "cell_type": "code",
   "execution_count": 38,
   "id": "7e248e51",
   "metadata": {},
   "outputs": [],
   "source": [
    "teamB.append(i.text.strip())"
   ]
  },
  {
   "cell_type": "code",
   "execution_count": 39,
   "id": "988a5cef",
   "metadata": {},
   "outputs": [],
   "source": [
    "b=1\n",
    "for i in bs2.find_all('span',class_='table-body__logo-text'):\n",
    "    if(b<10):\n",
    "        teamB.append(i.text.strip())\n",
    "        b+=1\n",
    "    else:\n",
    "        break"
   ]
  },
  {
   "cell_type": "code",
   "execution_count": 40,
   "id": "2b428d62",
   "metadata": {},
   "outputs": [
    {
     "data": {
      "text/plain": [
       "['PAK', 'IND', 'IND', 'NZ', 'AUS', 'ENG', 'AUS', 'WI', 'NZ', 'SA']"
      ]
     },
     "execution_count": 40,
     "metadata": {},
     "output_type": "execute_result"
    }
   ],
   "source": [
    "teamB"
   ]
  },
  {
   "cell_type": "code",
   "execution_count": 41,
   "id": "d91ecd30",
   "metadata": {},
   "outputs": [],
   "source": [
    "ratingB = []"
   ]
  },
  {
   "cell_type": "code",
   "execution_count": 42,
   "id": "ba53c2a9",
   "metadata": {},
   "outputs": [],
   "source": [
    "i = bs2.find('div',class_='rankings-block__banner--rating')"
   ]
  },
  {
   "cell_type": "code",
   "execution_count": 43,
   "id": "8e400fd6",
   "metadata": {},
   "outputs": [],
   "source": [
    "ratingB.append(i.text)"
   ]
  },
  {
   "cell_type": "code",
   "execution_count": 44,
   "id": "5f454d8d",
   "metadata": {},
   "outputs": [],
   "source": [
    "b=1\n",
    "for i in bs2.find_all('td',class_='table-body__cell rating'):\n",
    "    if(b<10):\n",
    "        ratingB.append(i.text)\n",
    "        b+=1\n",
    "    else:\n",
    "        break"
   ]
  },
  {
   "cell_type": "code",
   "execution_count": 45,
   "id": "be9d7c51",
   "metadata": {},
   "outputs": [
    {
     "data": {
      "text/plain": [
       "['873', '844', '813', '801', '779', '775', '762', '758', '754', '743']"
      ]
     },
     "execution_count": 45,
     "metadata": {},
     "output_type": "execute_result"
    }
   ],
   "source": [
    "ratingB"
   ]
  },
  {
   "cell_type": "code",
   "execution_count": 46,
   "id": "3e956a7f",
   "metadata": {},
   "outputs": [
    {
     "name": "stdout",
     "output_type": "stream",
     "text": [
      "10 10 10\n"
     ]
    }
   ],
   "source": [
    "print(len(nameB),len(teamB),len(ratingB))"
   ]
  },
  {
   "cell_type": "code",
   "execution_count": 47,
   "id": "f181b2d7",
   "metadata": {},
   "outputs": [],
   "source": [
    "df2 = pd.DataFrame({'Name':nameB,'Team':teamB,'Rating':ratingB})"
   ]
  },
  {
   "cell_type": "code",
   "execution_count": 48,
   "id": "9776f025",
   "metadata": {},
   "outputs": [
    {
     "data": {
      "text/html": [
       "<div>\n",
       "<style scoped>\n",
       "    .dataframe tbody tr th:only-of-type {\n",
       "        vertical-align: middle;\n",
       "    }\n",
       "\n",
       "    .dataframe tbody tr th {\n",
       "        vertical-align: top;\n",
       "    }\n",
       "\n",
       "    .dataframe thead th {\n",
       "        text-align: right;\n",
       "    }\n",
       "</style>\n",
       "<table border=\"1\" class=\"dataframe\">\n",
       "  <thead>\n",
       "    <tr style=\"text-align: right;\">\n",
       "      <th></th>\n",
       "      <th>Name</th>\n",
       "      <th>Team</th>\n",
       "      <th>Rating</th>\n",
       "    </tr>\n",
       "  </thead>\n",
       "  <tbody>\n",
       "    <tr>\n",
       "      <th>0</th>\n",
       "      <td>Babar Azam</td>\n",
       "      <td>PAK</td>\n",
       "      <td>873</td>\n",
       "    </tr>\n",
       "    <tr>\n",
       "      <th>1</th>\n",
       "      <td>Virat Kohli</td>\n",
       "      <td>IND</td>\n",
       "      <td>844</td>\n",
       "    </tr>\n",
       "    <tr>\n",
       "      <th>2</th>\n",
       "      <td>Rohit Sharma</td>\n",
       "      <td>IND</td>\n",
       "      <td>813</td>\n",
       "    </tr>\n",
       "    <tr>\n",
       "      <th>3</th>\n",
       "      <td>Ross Taylor</td>\n",
       "      <td>NZ</td>\n",
       "      <td>801</td>\n",
       "    </tr>\n",
       "    <tr>\n",
       "      <th>4</th>\n",
       "      <td>Aaron Finch</td>\n",
       "      <td>AUS</td>\n",
       "      <td>779</td>\n",
       "    </tr>\n",
       "    <tr>\n",
       "      <th>5</th>\n",
       "      <td>Jonny Bairstow</td>\n",
       "      <td>ENG</td>\n",
       "      <td>775</td>\n",
       "    </tr>\n",
       "    <tr>\n",
       "      <th>6</th>\n",
       "      <td>David Warner</td>\n",
       "      <td>AUS</td>\n",
       "      <td>762</td>\n",
       "    </tr>\n",
       "    <tr>\n",
       "      <th>7</th>\n",
       "      <td>Shai Hope</td>\n",
       "      <td>WI</td>\n",
       "      <td>758</td>\n",
       "    </tr>\n",
       "    <tr>\n",
       "      <th>8</th>\n",
       "      <td>Kane Williamson</td>\n",
       "      <td>NZ</td>\n",
       "      <td>754</td>\n",
       "    </tr>\n",
       "    <tr>\n",
       "      <th>9</th>\n",
       "      <td>Quinton de Kock</td>\n",
       "      <td>SA</td>\n",
       "      <td>743</td>\n",
       "    </tr>\n",
       "  </tbody>\n",
       "</table>\n",
       "</div>"
      ],
      "text/plain": [
       "              Name Team Rating\n",
       "0       Babar Azam  PAK    873\n",
       "1      Virat Kohli  IND    844\n",
       "2     Rohit Sharma  IND    813\n",
       "3      Ross Taylor   NZ    801\n",
       "4      Aaron Finch  AUS    779\n",
       "5   Jonny Bairstow  ENG    775\n",
       "6     David Warner  AUS    762\n",
       "7        Shai Hope   WI    758\n",
       "8  Kane Williamson   NZ    754\n",
       "9  Quinton de Kock   SA    743"
      ]
     },
     "execution_count": 48,
     "metadata": {},
     "output_type": "execute_result"
    }
   ],
   "source": [
    "df2"
   ]
  },
  {
   "cell_type": "markdown",
   "id": "c4779cf3",
   "metadata": {},
   "source": [
    "# 5.(c) Top 10 ODI bowlers along with the records of their team and rating"
   ]
  },
  {
   "cell_type": "code",
   "execution_count": 49,
   "id": "76a71124",
   "metadata": {},
   "outputs": [],
   "source": [
    "url3 = 'https://www.icc-cricket.com/rankings/mens/player-rankings/odi/bowling'"
   ]
  },
  {
   "cell_type": "code",
   "execution_count": 50,
   "id": "eaefc5f8",
   "metadata": {},
   "outputs": [],
   "source": [
    "site3 = requests.get(url3)"
   ]
  },
  {
   "cell_type": "code",
   "execution_count": 51,
   "id": "d6e2af04",
   "metadata": {},
   "outputs": [],
   "source": [
    "bs3 = BeautifulSoup(site3.content)"
   ]
  },
  {
   "cell_type": "code",
   "execution_count": 52,
   "id": "3864e90f",
   "metadata": {},
   "outputs": [],
   "source": [
    "i = bs3.find('div',class_='rankings-block__banner--name-large')"
   ]
  },
  {
   "cell_type": "code",
   "execution_count": 53,
   "id": "41a0297a",
   "metadata": {},
   "outputs": [],
   "source": [
    "nameC= []"
   ]
  },
  {
   "cell_type": "code",
   "execution_count": 54,
   "id": "03cd3ce0",
   "metadata": {},
   "outputs": [],
   "source": [
    "nameC.append(i.text)"
   ]
  },
  {
   "cell_type": "code",
   "execution_count": 55,
   "id": "5ad49028",
   "metadata": {},
   "outputs": [],
   "source": [
    "b=1\n",
    "for i in bs3.find_all('td',class_='table-body__cell rankings-table__name name'):\n",
    "    if(b<10):\n",
    "        nameC.append(i.text.strip())\n",
    "        b+=1\n",
    "    else:\n",
    "        break"
   ]
  },
  {
   "cell_type": "code",
   "execution_count": 56,
   "id": "bf67d480",
   "metadata": {},
   "outputs": [
    {
     "data": {
      "text/plain": [
       "['Trent Boult',\n",
       " 'Josh Hazlewood',\n",
       " 'Mujeeb Ur Rahman',\n",
       " 'Chris Woakes',\n",
       " 'Mehedi Hasan',\n",
       " 'Matt Henry',\n",
       " 'Jasprit Bumrah',\n",
       " 'Mitchell Starc',\n",
       " 'Shakib Al Hasan',\n",
       " 'Kagiso Rabada']"
      ]
     },
     "execution_count": 56,
     "metadata": {},
     "output_type": "execute_result"
    }
   ],
   "source": [
    "nameC"
   ]
  },
  {
   "cell_type": "code",
   "execution_count": 57,
   "id": "d1e00fec",
   "metadata": {},
   "outputs": [],
   "source": [
    "teamC = []"
   ]
  },
  {
   "cell_type": "code",
   "execution_count": 58,
   "id": "7483bcf5",
   "metadata": {},
   "outputs": [],
   "source": [
    "i = bs3.find('div',class_='rankings-block__banner--nationality')"
   ]
  },
  {
   "cell_type": "code",
   "execution_count": 59,
   "id": "589fca94",
   "metadata": {},
   "outputs": [],
   "source": [
    "teamC.append(i.text.strip())"
   ]
  },
  {
   "cell_type": "code",
   "execution_count": 60,
   "id": "dca54a8f",
   "metadata": {},
   "outputs": [],
   "source": [
    "b=1\n",
    "for i in bs3.find_all('span',class_='table-body__logo-text'):\n",
    "    if(b<10):\n",
    "        teamC.append(i.text.strip())\n",
    "        b+=1\n",
    "    else:\n",
    "        break"
   ]
  },
  {
   "cell_type": "code",
   "execution_count": 61,
   "id": "04107df9",
   "metadata": {},
   "outputs": [
    {
     "data": {
      "text/plain": [
       "['NZ', 'AUS', 'AFG', 'ENG', 'BAN', 'NZ', 'IND', 'AUS', 'BAN', 'SA']"
      ]
     },
     "execution_count": 61,
     "metadata": {},
     "output_type": "execute_result"
    }
   ],
   "source": [
    "teamC"
   ]
  },
  {
   "cell_type": "code",
   "execution_count": 62,
   "id": "b4dc5270",
   "metadata": {},
   "outputs": [],
   "source": [
    "ratingC = []"
   ]
  },
  {
   "cell_type": "code",
   "execution_count": 63,
   "id": "227f7890",
   "metadata": {},
   "outputs": [],
   "source": [
    "i = bs3.find('div',class_='rankings-block__banner--rating')"
   ]
  },
  {
   "cell_type": "code",
   "execution_count": 64,
   "id": "79ff1bd7",
   "metadata": {},
   "outputs": [],
   "source": [
    "ratingC.append(i.text)"
   ]
  },
  {
   "cell_type": "code",
   "execution_count": 65,
   "id": "2e226ae3",
   "metadata": {},
   "outputs": [],
   "source": [
    "b=1\n",
    "for i in bs3.find_all('td',class_='table-body__cell rating'):\n",
    "    if(b<10):\n",
    "        ratingC.append(i.text)\n",
    "        b+=1\n",
    "    else:\n",
    "        break"
   ]
  },
  {
   "cell_type": "code",
   "execution_count": 66,
   "id": "4ab07317",
   "metadata": {},
   "outputs": [
    {
     "data": {
      "text/plain": [
       "['737', '709', '708', '700', '692', '691', '679', '652', '650', '643']"
      ]
     },
     "execution_count": 66,
     "metadata": {},
     "output_type": "execute_result"
    }
   ],
   "source": [
    "ratingC"
   ]
  },
  {
   "cell_type": "code",
   "execution_count": 67,
   "id": "34bd1d3f",
   "metadata": {},
   "outputs": [
    {
     "name": "stdout",
     "output_type": "stream",
     "text": [
      "10 10 10\n"
     ]
    }
   ],
   "source": [
    "print(len(nameC),len(teamC),len(ratingC))"
   ]
  },
  {
   "cell_type": "code",
   "execution_count": 68,
   "id": "b10d9871",
   "metadata": {},
   "outputs": [],
   "source": [
    "df3 = pd.DataFrame({'Name':nameC,'Team':teamC,'Rating':ratingC})"
   ]
  },
  {
   "cell_type": "code",
   "execution_count": 69,
   "id": "2cca31ab",
   "metadata": {},
   "outputs": [
    {
     "data": {
      "text/html": [
       "<div>\n",
       "<style scoped>\n",
       "    .dataframe tbody tr th:only-of-type {\n",
       "        vertical-align: middle;\n",
       "    }\n",
       "\n",
       "    .dataframe tbody tr th {\n",
       "        vertical-align: top;\n",
       "    }\n",
       "\n",
       "    .dataframe thead th {\n",
       "        text-align: right;\n",
       "    }\n",
       "</style>\n",
       "<table border=\"1\" class=\"dataframe\">\n",
       "  <thead>\n",
       "    <tr style=\"text-align: right;\">\n",
       "      <th></th>\n",
       "      <th>Name</th>\n",
       "      <th>Team</th>\n",
       "      <th>Rating</th>\n",
       "    </tr>\n",
       "  </thead>\n",
       "  <tbody>\n",
       "    <tr>\n",
       "      <th>0</th>\n",
       "      <td>Trent Boult</td>\n",
       "      <td>NZ</td>\n",
       "      <td>737</td>\n",
       "    </tr>\n",
       "    <tr>\n",
       "      <th>1</th>\n",
       "      <td>Josh Hazlewood</td>\n",
       "      <td>AUS</td>\n",
       "      <td>709</td>\n",
       "    </tr>\n",
       "    <tr>\n",
       "      <th>2</th>\n",
       "      <td>Mujeeb Ur Rahman</td>\n",
       "      <td>AFG</td>\n",
       "      <td>708</td>\n",
       "    </tr>\n",
       "    <tr>\n",
       "      <th>3</th>\n",
       "      <td>Chris Woakes</td>\n",
       "      <td>ENG</td>\n",
       "      <td>700</td>\n",
       "    </tr>\n",
       "    <tr>\n",
       "      <th>4</th>\n",
       "      <td>Mehedi Hasan</td>\n",
       "      <td>BAN</td>\n",
       "      <td>692</td>\n",
       "    </tr>\n",
       "    <tr>\n",
       "      <th>5</th>\n",
       "      <td>Matt Henry</td>\n",
       "      <td>NZ</td>\n",
       "      <td>691</td>\n",
       "    </tr>\n",
       "    <tr>\n",
       "      <th>6</th>\n",
       "      <td>Jasprit Bumrah</td>\n",
       "      <td>IND</td>\n",
       "      <td>679</td>\n",
       "    </tr>\n",
       "    <tr>\n",
       "      <th>7</th>\n",
       "      <td>Mitchell Starc</td>\n",
       "      <td>AUS</td>\n",
       "      <td>652</td>\n",
       "    </tr>\n",
       "    <tr>\n",
       "      <th>8</th>\n",
       "      <td>Shakib Al Hasan</td>\n",
       "      <td>BAN</td>\n",
       "      <td>650</td>\n",
       "    </tr>\n",
       "    <tr>\n",
       "      <th>9</th>\n",
       "      <td>Kagiso Rabada</td>\n",
       "      <td>SA</td>\n",
       "      <td>643</td>\n",
       "    </tr>\n",
       "  </tbody>\n",
       "</table>\n",
       "</div>"
      ],
      "text/plain": [
       "               Name Team Rating\n",
       "0       Trent Boult   NZ    737\n",
       "1    Josh Hazlewood  AUS    709\n",
       "2  Mujeeb Ur Rahman  AFG    708\n",
       "3      Chris Woakes  ENG    700\n",
       "4      Mehedi Hasan  BAN    692\n",
       "5        Matt Henry   NZ    691\n",
       "6    Jasprit Bumrah  IND    679\n",
       "7    Mitchell Starc  AUS    652\n",
       "8   Shakib Al Hasan  BAN    650\n",
       "9     Kagiso Rabada   SA    643"
      ]
     },
     "execution_count": 69,
     "metadata": {},
     "output_type": "execute_result"
    }
   ],
   "source": [
    "df3"
   ]
  },
  {
   "cell_type": "code",
   "execution_count": null,
   "id": "d7b5ac4e",
   "metadata": {},
   "outputs": [],
   "source": []
  }
 ],
 "metadata": {
  "kernelspec": {
   "display_name": "Python 3",
   "language": "python",
   "name": "python3"
  },
  "language_info": {
   "codemirror_mode": {
    "name": "ipython",
    "version": 3
   },
   "file_extension": ".py",
   "mimetype": "text/x-python",
   "name": "python",
   "nbconvert_exporter": "python",
   "pygments_lexer": "ipython3",
   "version": "3.8.8"
  }
 },
 "nbformat": 4,
 "nbformat_minor": 5
}
