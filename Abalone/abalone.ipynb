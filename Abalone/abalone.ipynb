{
 "cells": [
  {
   "cell_type": "code",
   "execution_count": 1,
   "id": "362c8f36",
   "metadata": {},
   "outputs": [],
   "source": [
    "import numpy as np\n",
    "import pandas as pd\n",
    "import matplotlib.pyplot as plt\n",
    "import seaborn as sns"
   ]
  },
  {
   "cell_type": "markdown",
   "id": "4b237402",
   "metadata": {},
   "source": [
    "Since all the required libraries have been imported. The first step is to retrieve the dataset."
   ]
  },
  {
   "cell_type": "code",
   "execution_count": 3,
   "id": "fc9561be",
   "metadata": {},
   "outputs": [],
   "source": [
    "df = pd.read_csv(r\"C:\\Users\\jjjib\\Desktop\\Projects\\DataTrained\\Week 2\\abalone.csv\")"
   ]
  },
  {
   "cell_type": "markdown",
   "id": "516be7ac",
   "metadata": {},
   "source": [
    "Let us now look into the dataset to better understand the values that we deal with"
   ]
  },
  {
   "cell_type": "code",
   "execution_count": 5,
   "id": "103709b7",
   "metadata": {},
   "outputs": [
    {
     "data": {
      "text/html": [
       "<div>\n",
       "<style scoped>\n",
       "    .dataframe tbody tr th:only-of-type {\n",
       "        vertical-align: middle;\n",
       "    }\n",
       "\n",
       "    .dataframe tbody tr th {\n",
       "        vertical-align: top;\n",
       "    }\n",
       "\n",
       "    .dataframe thead th {\n",
       "        text-align: right;\n",
       "    }\n",
       "</style>\n",
       "<table border=\"1\" class=\"dataframe\">\n",
       "  <thead>\n",
       "    <tr style=\"text-align: right;\">\n",
       "      <th></th>\n",
       "      <th>Sex</th>\n",
       "      <th>Length</th>\n",
       "      <th>Diameter</th>\n",
       "      <th>Height</th>\n",
       "      <th>Whole weight</th>\n",
       "      <th>Shucked weight</th>\n",
       "      <th>Viscera weight</th>\n",
       "      <th>Shell weight</th>\n",
       "      <th>Rings</th>\n",
       "    </tr>\n",
       "  </thead>\n",
       "  <tbody>\n",
       "    <tr>\n",
       "      <th>0</th>\n",
       "      <td>M</td>\n",
       "      <td>0.455</td>\n",
       "      <td>0.365</td>\n",
       "      <td>0.095</td>\n",
       "      <td>0.5140</td>\n",
       "      <td>0.2245</td>\n",
       "      <td>0.1010</td>\n",
       "      <td>0.1500</td>\n",
       "      <td>15</td>\n",
       "    </tr>\n",
       "    <tr>\n",
       "      <th>1</th>\n",
       "      <td>M</td>\n",
       "      <td>0.350</td>\n",
       "      <td>0.265</td>\n",
       "      <td>0.090</td>\n",
       "      <td>0.2255</td>\n",
       "      <td>0.0995</td>\n",
       "      <td>0.0485</td>\n",
       "      <td>0.0700</td>\n",
       "      <td>7</td>\n",
       "    </tr>\n",
       "    <tr>\n",
       "      <th>2</th>\n",
       "      <td>F</td>\n",
       "      <td>0.530</td>\n",
       "      <td>0.420</td>\n",
       "      <td>0.135</td>\n",
       "      <td>0.6770</td>\n",
       "      <td>0.2565</td>\n",
       "      <td>0.1415</td>\n",
       "      <td>0.2100</td>\n",
       "      <td>9</td>\n",
       "    </tr>\n",
       "    <tr>\n",
       "      <th>3</th>\n",
       "      <td>M</td>\n",
       "      <td>0.440</td>\n",
       "      <td>0.365</td>\n",
       "      <td>0.125</td>\n",
       "      <td>0.5160</td>\n",
       "      <td>0.2155</td>\n",
       "      <td>0.1140</td>\n",
       "      <td>0.1550</td>\n",
       "      <td>10</td>\n",
       "    </tr>\n",
       "    <tr>\n",
       "      <th>4</th>\n",
       "      <td>I</td>\n",
       "      <td>0.330</td>\n",
       "      <td>0.255</td>\n",
       "      <td>0.080</td>\n",
       "      <td>0.2050</td>\n",
       "      <td>0.0895</td>\n",
       "      <td>0.0395</td>\n",
       "      <td>0.0550</td>\n",
       "      <td>7</td>\n",
       "    </tr>\n",
       "    <tr>\n",
       "      <th>...</th>\n",
       "      <td>...</td>\n",
       "      <td>...</td>\n",
       "      <td>...</td>\n",
       "      <td>...</td>\n",
       "      <td>...</td>\n",
       "      <td>...</td>\n",
       "      <td>...</td>\n",
       "      <td>...</td>\n",
       "      <td>...</td>\n",
       "    </tr>\n",
       "    <tr>\n",
       "      <th>4172</th>\n",
       "      <td>F</td>\n",
       "      <td>0.565</td>\n",
       "      <td>0.450</td>\n",
       "      <td>0.165</td>\n",
       "      <td>0.8870</td>\n",
       "      <td>0.3700</td>\n",
       "      <td>0.2390</td>\n",
       "      <td>0.2490</td>\n",
       "      <td>11</td>\n",
       "    </tr>\n",
       "    <tr>\n",
       "      <th>4173</th>\n",
       "      <td>M</td>\n",
       "      <td>0.590</td>\n",
       "      <td>0.440</td>\n",
       "      <td>0.135</td>\n",
       "      <td>0.9660</td>\n",
       "      <td>0.4390</td>\n",
       "      <td>0.2145</td>\n",
       "      <td>0.2605</td>\n",
       "      <td>10</td>\n",
       "    </tr>\n",
       "    <tr>\n",
       "      <th>4174</th>\n",
       "      <td>M</td>\n",
       "      <td>0.600</td>\n",
       "      <td>0.475</td>\n",
       "      <td>0.205</td>\n",
       "      <td>1.1760</td>\n",
       "      <td>0.5255</td>\n",
       "      <td>0.2875</td>\n",
       "      <td>0.3080</td>\n",
       "      <td>9</td>\n",
       "    </tr>\n",
       "    <tr>\n",
       "      <th>4175</th>\n",
       "      <td>F</td>\n",
       "      <td>0.625</td>\n",
       "      <td>0.485</td>\n",
       "      <td>0.150</td>\n",
       "      <td>1.0945</td>\n",
       "      <td>0.5310</td>\n",
       "      <td>0.2610</td>\n",
       "      <td>0.2960</td>\n",
       "      <td>10</td>\n",
       "    </tr>\n",
       "    <tr>\n",
       "      <th>4176</th>\n",
       "      <td>M</td>\n",
       "      <td>0.710</td>\n",
       "      <td>0.555</td>\n",
       "      <td>0.195</td>\n",
       "      <td>1.9485</td>\n",
       "      <td>0.9455</td>\n",
       "      <td>0.3765</td>\n",
       "      <td>0.4950</td>\n",
       "      <td>12</td>\n",
       "    </tr>\n",
       "  </tbody>\n",
       "</table>\n",
       "<p>4177 rows × 9 columns</p>\n",
       "</div>"
      ],
      "text/plain": [
       "     Sex  Length  Diameter  Height  Whole weight  Shucked weight  \\\n",
       "0      M   0.455     0.365   0.095        0.5140          0.2245   \n",
       "1      M   0.350     0.265   0.090        0.2255          0.0995   \n",
       "2      F   0.530     0.420   0.135        0.6770          0.2565   \n",
       "3      M   0.440     0.365   0.125        0.5160          0.2155   \n",
       "4      I   0.330     0.255   0.080        0.2050          0.0895   \n",
       "...   ..     ...       ...     ...           ...             ...   \n",
       "4172   F   0.565     0.450   0.165        0.8870          0.3700   \n",
       "4173   M   0.590     0.440   0.135        0.9660          0.4390   \n",
       "4174   M   0.600     0.475   0.205        1.1760          0.5255   \n",
       "4175   F   0.625     0.485   0.150        1.0945          0.5310   \n",
       "4176   M   0.710     0.555   0.195        1.9485          0.9455   \n",
       "\n",
       "      Viscera weight  Shell weight  Rings  \n",
       "0             0.1010        0.1500     15  \n",
       "1             0.0485        0.0700      7  \n",
       "2             0.1415        0.2100      9  \n",
       "3             0.1140        0.1550     10  \n",
       "4             0.0395        0.0550      7  \n",
       "...              ...           ...    ...  \n",
       "4172          0.2390        0.2490     11  \n",
       "4173          0.2145        0.2605     10  \n",
       "4174          0.2875        0.3080      9  \n",
       "4175          0.2610        0.2960     10  \n",
       "4176          0.3765        0.4950     12  \n",
       "\n",
       "[4177 rows x 9 columns]"
      ]
     },
     "execution_count": 5,
     "metadata": {},
     "output_type": "execute_result"
    }
   ],
   "source": [
    "df"
   ]
  },
  {
   "cell_type": "code",
   "execution_count": 6,
   "id": "083fd8af",
   "metadata": {},
   "outputs": [
    {
     "data": {
      "text/plain": [
       "(4177, 9)"
      ]
     },
     "execution_count": 6,
     "metadata": {},
     "output_type": "execute_result"
    }
   ],
   "source": [
    "df.shape"
   ]
  },
  {
   "cell_type": "markdown",
   "id": "74a5678c",
   "metadata": {},
   "source": [
    "Now we know how the dataset looks like, let us further get into the description of the dataset "
   ]
  },
  {
   "cell_type": "code",
   "execution_count": 7,
   "id": "bb91affc",
   "metadata": {},
   "outputs": [
    {
     "data": {
      "text/html": [
       "<div>\n",
       "<style scoped>\n",
       "    .dataframe tbody tr th:only-of-type {\n",
       "        vertical-align: middle;\n",
       "    }\n",
       "\n",
       "    .dataframe tbody tr th {\n",
       "        vertical-align: top;\n",
       "    }\n",
       "\n",
       "    .dataframe thead th {\n",
       "        text-align: right;\n",
       "    }\n",
       "</style>\n",
       "<table border=\"1\" class=\"dataframe\">\n",
       "  <thead>\n",
       "    <tr style=\"text-align: right;\">\n",
       "      <th></th>\n",
       "      <th>Length</th>\n",
       "      <th>Diameter</th>\n",
       "      <th>Height</th>\n",
       "      <th>Whole weight</th>\n",
       "      <th>Shucked weight</th>\n",
       "      <th>Viscera weight</th>\n",
       "      <th>Shell weight</th>\n",
       "      <th>Rings</th>\n",
       "    </tr>\n",
       "  </thead>\n",
       "  <tbody>\n",
       "    <tr>\n",
       "      <th>count</th>\n",
       "      <td>4177.000000</td>\n",
       "      <td>4177.000000</td>\n",
       "      <td>4177.000000</td>\n",
       "      <td>4177.000000</td>\n",
       "      <td>4177.000000</td>\n",
       "      <td>4177.000000</td>\n",
       "      <td>4177.000000</td>\n",
       "      <td>4177.000000</td>\n",
       "    </tr>\n",
       "    <tr>\n",
       "      <th>mean</th>\n",
       "      <td>0.523992</td>\n",
       "      <td>0.407881</td>\n",
       "      <td>0.139516</td>\n",
       "      <td>0.828742</td>\n",
       "      <td>0.359367</td>\n",
       "      <td>0.180594</td>\n",
       "      <td>0.238831</td>\n",
       "      <td>9.933684</td>\n",
       "    </tr>\n",
       "    <tr>\n",
       "      <th>std</th>\n",
       "      <td>0.120093</td>\n",
       "      <td>0.099240</td>\n",
       "      <td>0.041827</td>\n",
       "      <td>0.490389</td>\n",
       "      <td>0.221963</td>\n",
       "      <td>0.109614</td>\n",
       "      <td>0.139203</td>\n",
       "      <td>3.224169</td>\n",
       "    </tr>\n",
       "    <tr>\n",
       "      <th>min</th>\n",
       "      <td>0.075000</td>\n",
       "      <td>0.055000</td>\n",
       "      <td>0.000000</td>\n",
       "      <td>0.002000</td>\n",
       "      <td>0.001000</td>\n",
       "      <td>0.000500</td>\n",
       "      <td>0.001500</td>\n",
       "      <td>1.000000</td>\n",
       "    </tr>\n",
       "    <tr>\n",
       "      <th>25%</th>\n",
       "      <td>0.450000</td>\n",
       "      <td>0.350000</td>\n",
       "      <td>0.115000</td>\n",
       "      <td>0.441500</td>\n",
       "      <td>0.186000</td>\n",
       "      <td>0.093500</td>\n",
       "      <td>0.130000</td>\n",
       "      <td>8.000000</td>\n",
       "    </tr>\n",
       "    <tr>\n",
       "      <th>50%</th>\n",
       "      <td>0.545000</td>\n",
       "      <td>0.425000</td>\n",
       "      <td>0.140000</td>\n",
       "      <td>0.799500</td>\n",
       "      <td>0.336000</td>\n",
       "      <td>0.171000</td>\n",
       "      <td>0.234000</td>\n",
       "      <td>9.000000</td>\n",
       "    </tr>\n",
       "    <tr>\n",
       "      <th>75%</th>\n",
       "      <td>0.615000</td>\n",
       "      <td>0.480000</td>\n",
       "      <td>0.165000</td>\n",
       "      <td>1.153000</td>\n",
       "      <td>0.502000</td>\n",
       "      <td>0.253000</td>\n",
       "      <td>0.329000</td>\n",
       "      <td>11.000000</td>\n",
       "    </tr>\n",
       "    <tr>\n",
       "      <th>max</th>\n",
       "      <td>0.815000</td>\n",
       "      <td>0.650000</td>\n",
       "      <td>1.130000</td>\n",
       "      <td>2.825500</td>\n",
       "      <td>1.488000</td>\n",
       "      <td>0.760000</td>\n",
       "      <td>1.005000</td>\n",
       "      <td>29.000000</td>\n",
       "    </tr>\n",
       "  </tbody>\n",
       "</table>\n",
       "</div>"
      ],
      "text/plain": [
       "            Length     Diameter       Height  Whole weight  Shucked weight  \\\n",
       "count  4177.000000  4177.000000  4177.000000   4177.000000     4177.000000   \n",
       "mean      0.523992     0.407881     0.139516      0.828742        0.359367   \n",
       "std       0.120093     0.099240     0.041827      0.490389        0.221963   \n",
       "min       0.075000     0.055000     0.000000      0.002000        0.001000   \n",
       "25%       0.450000     0.350000     0.115000      0.441500        0.186000   \n",
       "50%       0.545000     0.425000     0.140000      0.799500        0.336000   \n",
       "75%       0.615000     0.480000     0.165000      1.153000        0.502000   \n",
       "max       0.815000     0.650000     1.130000      2.825500        1.488000   \n",
       "\n",
       "       Viscera weight  Shell weight        Rings  \n",
       "count     4177.000000   4177.000000  4177.000000  \n",
       "mean         0.180594      0.238831     9.933684  \n",
       "std          0.109614      0.139203     3.224169  \n",
       "min          0.000500      0.001500     1.000000  \n",
       "25%          0.093500      0.130000     8.000000  \n",
       "50%          0.171000      0.234000     9.000000  \n",
       "75%          0.253000      0.329000    11.000000  \n",
       "max          0.760000      1.005000    29.000000  "
      ]
     },
     "execution_count": 7,
     "metadata": {},
     "output_type": "execute_result"
    }
   ],
   "source": [
    "df.describe()"
   ]
  },
  {
   "cell_type": "markdown",
   "id": "900aeb0a",
   "metadata": {},
   "source": [
    "Here, we can note that the column sex is not present. That is because we have seen above that sex is a categorical data and describe function deals with only continuous data for its simplicity in calculating the mean and mode etc.\n"
   ]
  },
  {
   "cell_type": "markdown",
   "id": "0af7a95a",
   "metadata": {},
   "source": [
    "However, we also note that even though there is an inconsistency with the column height as minimum height shows 0, that is not possible. Let us check this out specifically"
   ]
  },
  {
   "cell_type": "code",
   "execution_count": 10,
   "id": "6d6dea1a",
   "metadata": {},
   "outputs": [
    {
     "data": {
      "text/plain": [
       "2"
      ]
     },
     "execution_count": 10,
     "metadata": {},
     "output_type": "execute_result"
    }
   ],
   "source": [
    "(df.Height==0).sum()"
   ]
  },
  {
   "cell_type": "markdown",
   "id": "94d883bb",
   "metadata": {},
   "source": [
    "We can see there are two raos in the dataset with height value as 0"
   ]
  },
  {
   "cell_type": "code",
   "execution_count": 12,
   "id": "a14bd16f",
   "metadata": {},
   "outputs": [
    {
     "data": {
      "text/html": [
       "<div>\n",
       "<style scoped>\n",
       "    .dataframe tbody tr th:only-of-type {\n",
       "        vertical-align: middle;\n",
       "    }\n",
       "\n",
       "    .dataframe tbody tr th {\n",
       "        vertical-align: top;\n",
       "    }\n",
       "\n",
       "    .dataframe thead th {\n",
       "        text-align: right;\n",
       "    }\n",
       "</style>\n",
       "<table border=\"1\" class=\"dataframe\">\n",
       "  <thead>\n",
       "    <tr style=\"text-align: right;\">\n",
       "      <th></th>\n",
       "      <th>Sex</th>\n",
       "      <th>Length</th>\n",
       "      <th>Diameter</th>\n",
       "      <th>Height</th>\n",
       "      <th>Whole weight</th>\n",
       "      <th>Shucked weight</th>\n",
       "      <th>Viscera weight</th>\n",
       "      <th>Shell weight</th>\n",
       "      <th>Rings</th>\n",
       "    </tr>\n",
       "  </thead>\n",
       "  <tbody>\n",
       "    <tr>\n",
       "      <th>1257</th>\n",
       "      <td>I</td>\n",
       "      <td>0.430</td>\n",
       "      <td>0.34</td>\n",
       "      <td>0.0</td>\n",
       "      <td>0.428</td>\n",
       "      <td>0.2065</td>\n",
       "      <td>0.0860</td>\n",
       "      <td>0.1150</td>\n",
       "      <td>8</td>\n",
       "    </tr>\n",
       "    <tr>\n",
       "      <th>3996</th>\n",
       "      <td>I</td>\n",
       "      <td>0.315</td>\n",
       "      <td>0.23</td>\n",
       "      <td>0.0</td>\n",
       "      <td>0.134</td>\n",
       "      <td>0.0575</td>\n",
       "      <td>0.0285</td>\n",
       "      <td>0.3505</td>\n",
       "      <td>6</td>\n",
       "    </tr>\n",
       "  </tbody>\n",
       "</table>\n",
       "</div>"
      ],
      "text/plain": [
       "     Sex  Length  Diameter  Height  Whole weight  Shucked weight  \\\n",
       "1257   I   0.430      0.34     0.0         0.428          0.2065   \n",
       "3996   I   0.315      0.23     0.0         0.134          0.0575   \n",
       "\n",
       "      Viscera weight  Shell weight  Rings  \n",
       "1257          0.0860        0.1150      8  \n",
       "3996          0.0285        0.3505      6  "
      ]
     },
     "execution_count": 12,
     "metadata": {},
     "output_type": "execute_result"
    }
   ],
   "source": [
    "df[df['Height']==0]"
   ]
  },
  {
   "cell_type": "markdown",
   "id": "a2048fce",
   "metadata": {},
   "source": [
    "Both the data belongs to the Infant group under sex feature. Let us first fill this data to make the dataset complete. We do this by filling the mean value."
   ]
  },
  {
   "cell_type": "markdown",
   "id": "1a485740",
   "metadata": {},
   "source": [
    "First, we find the mean value of height for data of all the infant values under the sex feature"
   ]
  },
  {
   "cell_type": "code",
   "execution_count": 13,
   "id": "8dfc2560",
   "metadata": {},
   "outputs": [
    {
     "data": {
      "text/html": [
       "<div>\n",
       "<style scoped>\n",
       "    .dataframe tbody tr th:only-of-type {\n",
       "        vertical-align: middle;\n",
       "    }\n",
       "\n",
       "    .dataframe tbody tr th {\n",
       "        vertical-align: top;\n",
       "    }\n",
       "\n",
       "    .dataframe thead th {\n",
       "        text-align: right;\n",
       "    }\n",
       "</style>\n",
       "<table border=\"1\" class=\"dataframe\">\n",
       "  <thead>\n",
       "    <tr style=\"text-align: right;\">\n",
       "      <th></th>\n",
       "      <th>Height</th>\n",
       "    </tr>\n",
       "    <tr>\n",
       "      <th>Sex</th>\n",
       "      <th></th>\n",
       "    </tr>\n",
       "  </thead>\n",
       "  <tbody>\n",
       "    <tr>\n",
       "      <th>F</th>\n",
       "      <td>0.158011</td>\n",
       "    </tr>\n",
       "    <tr>\n",
       "      <th>I</th>\n",
       "      <td>0.107996</td>\n",
       "    </tr>\n",
       "    <tr>\n",
       "      <th>M</th>\n",
       "      <td>0.151381</td>\n",
       "    </tr>\n",
       "  </tbody>\n",
       "</table>\n",
       "</div>"
      ],
      "text/plain": [
       "       Height\n",
       "Sex          \n",
       "F    0.158011\n",
       "I    0.107996\n",
       "M    0.151381"
      ]
     },
     "execution_count": 13,
     "metadata": {},
     "output_type": "execute_result"
    }
   ],
   "source": [
    "mean = pd.pivot_table(df, index=['Sex'], aggfunc={'Height':np.mean})\n",
    "mean"
   ]
  },
  {
   "cell_type": "markdown",
   "id": "add59d16",
   "metadata": {},
   "source": [
    "We find the mean height for each category of sex feature, with the value for Infant being 0.107996. Let us put it to the missing value in the dataset"
   ]
  },
  {
   "cell_type": "code",
   "execution_count": 14,
   "id": "7758659c",
   "metadata": {},
   "outputs": [],
   "source": [
    "df['Height'] = df['Height'].replace(to_replace=0, value=0.107996)"
   ]
  },
  {
   "cell_type": "markdown",
   "id": "cbcb2693",
   "metadata": {},
   "source": [
    "Let us check out the dataset again"
   ]
  },
  {
   "cell_type": "code",
   "execution_count": 15,
   "id": "30028727",
   "metadata": {},
   "outputs": [
    {
     "data": {
      "text/html": [
       "<div>\n",
       "<style scoped>\n",
       "    .dataframe tbody tr th:only-of-type {\n",
       "        vertical-align: middle;\n",
       "    }\n",
       "\n",
       "    .dataframe tbody tr th {\n",
       "        vertical-align: top;\n",
       "    }\n",
       "\n",
       "    .dataframe thead th {\n",
       "        text-align: right;\n",
       "    }\n",
       "</style>\n",
       "<table border=\"1\" class=\"dataframe\">\n",
       "  <thead>\n",
       "    <tr style=\"text-align: right;\">\n",
       "      <th></th>\n",
       "      <th>Length</th>\n",
       "      <th>Diameter</th>\n",
       "      <th>Height</th>\n",
       "      <th>Whole weight</th>\n",
       "      <th>Shucked weight</th>\n",
       "      <th>Viscera weight</th>\n",
       "      <th>Shell weight</th>\n",
       "      <th>Rings</th>\n",
       "    </tr>\n",
       "  </thead>\n",
       "  <tbody>\n",
       "    <tr>\n",
       "      <th>count</th>\n",
       "      <td>4177.000000</td>\n",
       "      <td>4177.000000</td>\n",
       "      <td>4177.000000</td>\n",
       "      <td>4177.000000</td>\n",
       "      <td>4177.000000</td>\n",
       "      <td>4177.000000</td>\n",
       "      <td>4177.000000</td>\n",
       "      <td>4177.000000</td>\n",
       "    </tr>\n",
       "    <tr>\n",
       "      <th>mean</th>\n",
       "      <td>0.523992</td>\n",
       "      <td>0.407881</td>\n",
       "      <td>0.139568</td>\n",
       "      <td>0.828742</td>\n",
       "      <td>0.359367</td>\n",
       "      <td>0.180594</td>\n",
       "      <td>0.238831</td>\n",
       "      <td>9.933684</td>\n",
       "    </tr>\n",
       "    <tr>\n",
       "      <th>std</th>\n",
       "      <td>0.120093</td>\n",
       "      <td>0.099240</td>\n",
       "      <td>0.041721</td>\n",
       "      <td>0.490389</td>\n",
       "      <td>0.221963</td>\n",
       "      <td>0.109614</td>\n",
       "      <td>0.139203</td>\n",
       "      <td>3.224169</td>\n",
       "    </tr>\n",
       "    <tr>\n",
       "      <th>min</th>\n",
       "      <td>0.075000</td>\n",
       "      <td>0.055000</td>\n",
       "      <td>0.010000</td>\n",
       "      <td>0.002000</td>\n",
       "      <td>0.001000</td>\n",
       "      <td>0.000500</td>\n",
       "      <td>0.001500</td>\n",
       "      <td>1.000000</td>\n",
       "    </tr>\n",
       "    <tr>\n",
       "      <th>25%</th>\n",
       "      <td>0.450000</td>\n",
       "      <td>0.350000</td>\n",
       "      <td>0.115000</td>\n",
       "      <td>0.441500</td>\n",
       "      <td>0.186000</td>\n",
       "      <td>0.093500</td>\n",
       "      <td>0.130000</td>\n",
       "      <td>8.000000</td>\n",
       "    </tr>\n",
       "    <tr>\n",
       "      <th>50%</th>\n",
       "      <td>0.545000</td>\n",
       "      <td>0.425000</td>\n",
       "      <td>0.140000</td>\n",
       "      <td>0.799500</td>\n",
       "      <td>0.336000</td>\n",
       "      <td>0.171000</td>\n",
       "      <td>0.234000</td>\n",
       "      <td>9.000000</td>\n",
       "    </tr>\n",
       "    <tr>\n",
       "      <th>75%</th>\n",
       "      <td>0.615000</td>\n",
       "      <td>0.480000</td>\n",
       "      <td>0.165000</td>\n",
       "      <td>1.153000</td>\n",
       "      <td>0.502000</td>\n",
       "      <td>0.253000</td>\n",
       "      <td>0.329000</td>\n",
       "      <td>11.000000</td>\n",
       "    </tr>\n",
       "    <tr>\n",
       "      <th>max</th>\n",
       "      <td>0.815000</td>\n",
       "      <td>0.650000</td>\n",
       "      <td>1.130000</td>\n",
       "      <td>2.825500</td>\n",
       "      <td>1.488000</td>\n",
       "      <td>0.760000</td>\n",
       "      <td>1.005000</td>\n",
       "      <td>29.000000</td>\n",
       "    </tr>\n",
       "  </tbody>\n",
       "</table>\n",
       "</div>"
      ],
      "text/plain": [
       "            Length     Diameter       Height  Whole weight  Shucked weight  \\\n",
       "count  4177.000000  4177.000000  4177.000000   4177.000000     4177.000000   \n",
       "mean      0.523992     0.407881     0.139568      0.828742        0.359367   \n",
       "std       0.120093     0.099240     0.041721      0.490389        0.221963   \n",
       "min       0.075000     0.055000     0.010000      0.002000        0.001000   \n",
       "25%       0.450000     0.350000     0.115000      0.441500        0.186000   \n",
       "50%       0.545000     0.425000     0.140000      0.799500        0.336000   \n",
       "75%       0.615000     0.480000     0.165000      1.153000        0.502000   \n",
       "max       0.815000     0.650000     1.130000      2.825500        1.488000   \n",
       "\n",
       "       Viscera weight  Shell weight        Rings  \n",
       "count     4177.000000   4177.000000  4177.000000  \n",
       "mean         0.180594      0.238831     9.933684  \n",
       "std          0.109614      0.139203     3.224169  \n",
       "min          0.000500      0.001500     1.000000  \n",
       "25%          0.093500      0.130000     8.000000  \n",
       "50%          0.171000      0.234000     9.000000  \n",
       "75%          0.253000      0.329000    11.000000  \n",
       "max          0.760000      1.005000    29.000000  "
      ]
     },
     "execution_count": 15,
     "metadata": {},
     "output_type": "execute_result"
    }
   ],
   "source": [
    "df.describe()"
   ]
  },
  {
   "cell_type": "markdown",
   "id": "bed460fc",
   "metadata": {},
   "source": [
    "Let us now check out the datatypes of various features of the dataset and check for null values"
   ]
  },
  {
   "cell_type": "code",
   "execution_count": 16,
   "id": "10e9c07a",
   "metadata": {},
   "outputs": [
    {
     "name": "stdout",
     "output_type": "stream",
     "text": [
      "<class 'pandas.core.frame.DataFrame'>\n",
      "RangeIndex: 4177 entries, 0 to 4176\n",
      "Data columns (total 9 columns):\n",
      " #   Column          Non-Null Count  Dtype  \n",
      "---  ------          --------------  -----  \n",
      " 0   Sex             4177 non-null   object \n",
      " 1   Length          4177 non-null   float64\n",
      " 2   Diameter        4177 non-null   float64\n",
      " 3   Height          4177 non-null   float64\n",
      " 4   Whole weight    4177 non-null   float64\n",
      " 5   Shucked weight  4177 non-null   float64\n",
      " 6   Viscera weight  4177 non-null   float64\n",
      " 7   Shell weight    4177 non-null   float64\n",
      " 8   Rings           4177 non-null   int64  \n",
      "dtypes: float64(7), int64(1), object(1)\n",
      "memory usage: 293.8+ KB\n"
     ]
    }
   ],
   "source": [
    "df.info()"
   ]
  },
  {
   "cell_type": "code",
   "execution_count": 17,
   "id": "c92aefb2",
   "metadata": {},
   "outputs": [
    {
     "data": {
      "text/plain": [
       "Sex               0\n",
       "Length            0\n",
       "Diameter          0\n",
       "Height            0\n",
       "Whole weight      0\n",
       "Shucked weight    0\n",
       "Viscera weight    0\n",
       "Shell weight      0\n",
       "Rings             0\n",
       "dtype: int64"
      ]
     },
     "execution_count": 17,
     "metadata": {},
     "output_type": "execute_result"
    }
   ],
   "source": [
    "df.isnull().sum()"
   ]
  },
  {
   "cell_type": "markdown",
   "id": "6cd82b86",
   "metadata": {},
   "source": [
    "We see the data types for all the features and that there are no null values. Let us represent the null value in a heatmap for better view"
   ]
  },
  {
   "cell_type": "code",
   "execution_count": 18,
   "id": "751a8ce0",
   "metadata": {},
   "outputs": [
    {
     "data": {
      "image/png": "[encoded data removed]",
      "text/plain": [
       "<Figure size 432x288 with 2 Axes>"
      ]
     },
     "metadata": {
      "needs_background": "light"
     },
     "output_type": "display_data"
    }
   ],
   "source": [
    "sns.heatmap(df.isnull())\n",
    "plt.title(\"Null values\")\n",
    "plt.show()"
   ]
  },
  {
   "cell_type": "markdown",
   "id": "fa8d3d87",
   "metadata": {},
   "source": [
    "We clearly see no null values. Now since the data is all consistent the next step we need to take is categorize the feature 'sex' into integer values to make it suitable for prediction models. We do this with the help on one-hot-encoding."
   ]
  },
  {
   "cell_type": "code",
   "execution_count": 19,
   "id": "5647040c",
   "metadata": {},
   "outputs": [],
   "source": [
    "df = pd.get_dummies(df)"
   ]
  },
  {
   "cell_type": "code",
   "execution_count": 20,
   "id": "fcfeb19b",
   "metadata": {},
   "outputs": [
    {
     "data": {
      "text/html": [
       "<div>\n",
       "<style scoped>\n",
       "    .dataframe tbody tr th:only-of-type {\n",
       "        vertical-align: middle;\n",
       "    }\n",
       "\n",
       "    .dataframe tbody tr th {\n",
       "        vertical-align: top;\n",
       "    }\n",
       "\n",
       "    .dataframe thead th {\n",
       "        text-align: right;\n",
       "    }\n",
       "</style>\n",
       "<table border=\"1\" class=\"dataframe\">\n",
       "  <thead>\n",
       "    <tr style=\"text-align: right;\">\n",
       "      <th></th>\n",
       "      <th>Length</th>\n",
       "      <th>Diameter</th>\n",
       "      <th>Height</th>\n",
       "      <th>Whole weight</th>\n",
       "      <th>Shucked weight</th>\n",
       "      <th>Viscera weight</th>\n",
       "      <th>Shell weight</th>\n",
       "      <th>Rings</th>\n",
       "      <th>Sex_F</th>\n",
       "      <th>Sex_I</th>\n",
       "      <th>Sex_M</th>\n",
       "    </tr>\n",
       "  </thead>\n",
       "  <tbody>\n",
       "    <tr>\n",
       "      <th>0</th>\n",
       "      <td>0.455</td>\n",
       "      <td>0.365</td>\n",
       "      <td>0.095</td>\n",
       "      <td>0.5140</td>\n",
       "      <td>0.2245</td>\n",
       "      <td>0.1010</td>\n",
       "      <td>0.150</td>\n",
       "      <td>15</td>\n",
       "      <td>0</td>\n",
       "      <td>0</td>\n",
       "      <td>1</td>\n",
       "    </tr>\n",
       "    <tr>\n",
       "      <th>1</th>\n",
       "      <td>0.350</td>\n",
       "      <td>0.265</td>\n",
       "      <td>0.090</td>\n",
       "      <td>0.2255</td>\n",
       "      <td>0.0995</td>\n",
       "      <td>0.0485</td>\n",
       "      <td>0.070</td>\n",
       "      <td>7</td>\n",
       "      <td>0</td>\n",
       "      <td>0</td>\n",
       "      <td>1</td>\n",
       "    </tr>\n",
       "    <tr>\n",
       "      <th>2</th>\n",
       "      <td>0.530</td>\n",
       "      <td>0.420</td>\n",
       "      <td>0.135</td>\n",
       "      <td>0.6770</td>\n",
       "      <td>0.2565</td>\n",
       "      <td>0.1415</td>\n",
       "      <td>0.210</td>\n",
       "      <td>9</td>\n",
       "      <td>1</td>\n",
       "      <td>0</td>\n",
       "      <td>0</td>\n",
       "    </tr>\n",
       "    <tr>\n",
       "      <th>3</th>\n",
       "      <td>0.440</td>\n",
       "      <td>0.365</td>\n",
       "      <td>0.125</td>\n",
       "      <td>0.5160</td>\n",
       "      <td>0.2155</td>\n",
       "      <td>0.1140</td>\n",
       "      <td>0.155</td>\n",
       "      <td>10</td>\n",
       "      <td>0</td>\n",
       "      <td>0</td>\n",
       "      <td>1</td>\n",
       "    </tr>\n",
       "    <tr>\n",
       "      <th>4</th>\n",
       "      <td>0.330</td>\n",
       "      <td>0.255</td>\n",
       "      <td>0.080</td>\n",
       "      <td>0.2050</td>\n",
       "      <td>0.0895</td>\n",
       "      <td>0.0395</td>\n",
       "      <td>0.055</td>\n",
       "      <td>7</td>\n",
       "      <td>0</td>\n",
       "      <td>1</td>\n",
       "      <td>0</td>\n",
       "    </tr>\n",
       "  </tbody>\n",
       "</table>\n",
       "</div>"
      ],
      "text/plain": [
       "   Length  Diameter  Height  Whole weight  Shucked weight  Viscera weight  \\\n",
       "0   0.455     0.365   0.095        0.5140          0.2245          0.1010   \n",
       "1   0.350     0.265   0.090        0.2255          0.0995          0.0485   \n",
       "2   0.530     0.420   0.135        0.6770          0.2565          0.1415   \n",
       "3   0.440     0.365   0.125        0.5160          0.2155          0.1140   \n",
       "4   0.330     0.255   0.080        0.2050          0.0895          0.0395   \n",
       "\n",
       "   Shell weight  Rings  Sex_F  Sex_I  Sex_M  \n",
       "0         0.150     15      0      0      1  \n",
       "1         0.070      7      0      0      1  \n",
       "2         0.210      9      1      0      0  \n",
       "3         0.155     10      0      0      1  \n",
       "4         0.055      7      0      1      0  "
      ]
     },
     "execution_count": 20,
     "metadata": {},
     "output_type": "execute_result"
    }
   ],
   "source": [
    "df.head()"
   ]
  },
  {
   "cell_type": "code",
   "execution_count": 22,
   "id": "271da550",
   "metadata": {},
   "outputs": [
    {
     "data": {
      "text/plain": [
       "(4177, 11)"
      ]
     },
     "execution_count": 22,
     "metadata": {},
     "output_type": "execute_result"
    }
   ],
   "source": [
    "df.shape"
   ]
  },
  {
   "cell_type": "markdown",
   "id": "12efd827",
   "metadata": {},
   "source": [
    "Now, with that done we can move forward with correlation matrix to find the correlation between the features to understand the weightage for each to the output"
   ]
  },
  {
   "cell_type": "code",
   "execution_count": 23,
   "id": "b2727540",
   "metadata": {},
   "outputs": [
    {
     "data": {
      "text/html": [
       "<div>\n",
       "<style scoped>\n",
       "    .dataframe tbody tr th:only-of-type {\n",
       "        vertical-align: middle;\n",
       "    }\n",
       "\n",
       "    .dataframe tbody tr th {\n",
       "        vertical-align: top;\n",
       "    }\n",
       "\n",
       "    .dataframe thead th {\n",
       "        text-align: right;\n",
       "    }\n",
       "</style>\n",
       "<table border=\"1\" class=\"dataframe\">\n",
       "  <thead>\n",
       "    <tr style=\"text-align: right;\">\n",
       "      <th></th>\n",
       "      <th>Length</th>\n",
       "      <th>Diameter</th>\n",
       "      <th>Height</th>\n",
       "      <th>Whole weight</th>\n",
       "      <th>Shucked weight</th>\n",
       "      <th>Viscera weight</th>\n",
       "      <th>Shell weight</th>\n",
       "      <th>Rings</th>\n",
       "      <th>Sex_F</th>\n",
       "      <th>Sex_I</th>\n",
       "      <th>Sex_M</th>\n",
       "    </tr>\n",
       "  </thead>\n",
       "  <tbody>\n",
       "    <tr>\n",
       "      <th>Length</th>\n",
       "      <td>1.000000</td>\n",
       "      <td>0.986812</td>\n",
       "      <td>0.828091</td>\n",
       "      <td>0.925261</td>\n",
       "      <td>0.897914</td>\n",
       "      <td>0.903018</td>\n",
       "      <td>0.897706</td>\n",
       "      <td>0.556720</td>\n",
       "      <td>0.309666</td>\n",
       "      <td>-0.551465</td>\n",
       "      <td>0.236543</td>\n",
       "    </tr>\n",
       "    <tr>\n",
       "      <th>Diameter</th>\n",
       "      <td>0.986812</td>\n",
       "      <td>1.000000</td>\n",
       "      <td>0.834265</td>\n",
       "      <td>0.925452</td>\n",
       "      <td>0.893162</td>\n",
       "      <td>0.899724</td>\n",
       "      <td>0.905330</td>\n",
       "      <td>0.574660</td>\n",
       "      <td>0.318626</td>\n",
       "      <td>-0.564315</td>\n",
       "      <td>0.240376</td>\n",
       "    </tr>\n",
       "    <tr>\n",
       "      <th>Height</th>\n",
       "      <td>0.828091</td>\n",
       "      <td>0.834265</td>\n",
       "      <td>1.000000</td>\n",
       "      <td>0.819916</td>\n",
       "      <td>0.775670</td>\n",
       "      <td>0.798951</td>\n",
       "      <td>0.819359</td>\n",
       "      <td>0.557755</td>\n",
       "      <td>0.298342</td>\n",
       "      <td>-0.518067</td>\n",
       "      <td>0.215064</td>\n",
       "    </tr>\n",
       "    <tr>\n",
       "      <th>Whole weight</th>\n",
       "      <td>0.925261</td>\n",
       "      <td>0.925452</td>\n",
       "      <td>0.819916</td>\n",
       "      <td>1.000000</td>\n",
       "      <td>0.969405</td>\n",
       "      <td>0.966375</td>\n",
       "      <td>0.955355</td>\n",
       "      <td>0.540390</td>\n",
       "      <td>0.299741</td>\n",
       "      <td>-0.557592</td>\n",
       "      <td>0.252038</td>\n",
       "    </tr>\n",
       "    <tr>\n",
       "      <th>Shucked weight</th>\n",
       "      <td>0.897914</td>\n",
       "      <td>0.893162</td>\n",
       "      <td>0.775670</td>\n",
       "      <td>0.969405</td>\n",
       "      <td>1.000000</td>\n",
       "      <td>0.931961</td>\n",
       "      <td>0.882617</td>\n",
       "      <td>0.420884</td>\n",
       "      <td>0.263991</td>\n",
       "      <td>-0.521842</td>\n",
       "      <td>0.251793</td>\n",
       "    </tr>\n",
       "    <tr>\n",
       "      <th>Viscera weight</th>\n",
       "      <td>0.903018</td>\n",
       "      <td>0.899724</td>\n",
       "      <td>0.798951</td>\n",
       "      <td>0.966375</td>\n",
       "      <td>0.931961</td>\n",
       "      <td>1.000000</td>\n",
       "      <td>0.907656</td>\n",
       "      <td>0.503819</td>\n",
       "      <td>0.308444</td>\n",
       "      <td>-0.556081</td>\n",
       "      <td>0.242194</td>\n",
       "    </tr>\n",
       "    <tr>\n",
       "      <th>Shell weight</th>\n",
       "      <td>0.897706</td>\n",
       "      <td>0.905330</td>\n",
       "      <td>0.819359</td>\n",
       "      <td>0.955355</td>\n",
       "      <td>0.882617</td>\n",
       "      <td>0.907656</td>\n",
       "      <td>1.000000</td>\n",
       "      <td>0.627574</td>\n",
       "      <td>0.306319</td>\n",
       "      <td>-0.546953</td>\n",
       "      <td>0.235391</td>\n",
       "    </tr>\n",
       "    <tr>\n",
       "      <th>Rings</th>\n",
       "      <td>0.556720</td>\n",
       "      <td>0.574660</td>\n",
       "      <td>0.557755</td>\n",
       "      <td>0.540390</td>\n",
       "      <td>0.420884</td>\n",
       "      <td>0.503819</td>\n",
       "      <td>0.627574</td>\n",
       "      <td>1.000000</td>\n",
       "      <td>0.250279</td>\n",
       "      <td>-0.436063</td>\n",
       "      <td>0.181831</td>\n",
       "    </tr>\n",
       "    <tr>\n",
       "      <th>Sex_F</th>\n",
       "      <td>0.309666</td>\n",
       "      <td>0.318626</td>\n",
       "      <td>0.298342</td>\n",
       "      <td>0.299741</td>\n",
       "      <td>0.263991</td>\n",
       "      <td>0.308444</td>\n",
       "      <td>0.306319</td>\n",
       "      <td>0.250279</td>\n",
       "      <td>1.000000</td>\n",
       "      <td>-0.464298</td>\n",
       "      <td>-0.512528</td>\n",
       "    </tr>\n",
       "    <tr>\n",
       "      <th>Sex_I</th>\n",
       "      <td>-0.551465</td>\n",
       "      <td>-0.564315</td>\n",
       "      <td>-0.518067</td>\n",
       "      <td>-0.557592</td>\n",
       "      <td>-0.521842</td>\n",
       "      <td>-0.556081</td>\n",
       "      <td>-0.546953</td>\n",
       "      <td>-0.436063</td>\n",
       "      <td>-0.464298</td>\n",
       "      <td>1.000000</td>\n",
       "      <td>-0.522541</td>\n",
       "    </tr>\n",
       "    <tr>\n",
       "      <th>Sex_M</th>\n",
       "      <td>0.236543</td>\n",
       "      <td>0.240376</td>\n",
       "      <td>0.215064</td>\n",
       "      <td>0.252038</td>\n",
       "      <td>0.251793</td>\n",
       "      <td>0.242194</td>\n",
       "      <td>0.235391</td>\n",
       "      <td>0.181831</td>\n",
       "      <td>-0.512528</td>\n",
       "      <td>-0.522541</td>\n",
       "      <td>1.000000</td>\n",
       "    </tr>\n",
       "  </tbody>\n",
       "</table>\n",
       "</div>"
      ],
      "text/plain": [
       "                  Length  Diameter    Height  Whole weight  Shucked weight  \\\n",
       "Length          1.000000  0.986812  0.828091      0.925261        0.897914   \n",
       "Diameter        0.986812  1.000000  0.834265      0.925452        0.893162   \n",
       "Height          0.828091  0.834265  1.000000      0.819916        0.775670   \n",
       "Whole weight    0.925261  0.925452  0.819916      1.000000        0.969405   \n",
       "Shucked weight  0.897914  0.893162  0.775670      0.969405        1.000000   \n",
       "Viscera weight  0.903018  0.899724  0.798951      0.966375        0.931961   \n",
       "Shell weight    0.897706  0.905330  0.819359      0.955355        0.882617   \n",
       "Rings           0.556720  0.574660  0.557755      0.540390        0.420884   \n",
       "Sex_F           0.309666  0.318626  0.298342      0.299741        0.263991   \n",
       "Sex_I          -0.551465 -0.564315 -0.518067     -0.557592       -0.521842   \n",
       "Sex_M           0.236543  0.240376  0.215064      0.252038        0.251793   \n",
       "\n",
       "                Viscera weight  Shell weight     Rings     Sex_F     Sex_I  \\\n",
       "Length                0.903018      0.897706  0.556720  0.309666 -0.551465   \n",
       "Diameter              0.899724      0.905330  0.574660  0.318626 -0.564315   \n",
       "Height                0.798951      0.819359  0.557755  0.298342 -0.518067   \n",
       "Whole weight          0.966375      0.955355  0.540390  0.299741 -0.557592   \n",
       "Shucked weight        0.931961      0.882617  0.420884  0.263991 -0.521842   \n",
       "Viscera weight        1.000000      0.907656  0.503819  0.308444 -0.556081   \n",
       "Shell weight          0.907656      1.000000  0.627574  0.306319 -0.546953   \n",
       "Rings                 0.503819      0.627574  1.000000  0.250279 -0.436063   \n",
       "Sex_F                 0.308444      0.306319  0.250279  1.000000 -0.464298   \n",
       "Sex_I                -0.556081     -0.546953 -0.436063 -0.464298  1.000000   \n",
       "Sex_M                 0.242194      0.235391  0.181831 -0.512528 -0.522541   \n",
       "\n",
       "                   Sex_M  \n",
       "Length          0.236543  \n",
       "Diameter        0.240376  \n",
       "Height          0.215064  \n",
       "Whole weight    0.252038  \n",
       "Shucked weight  0.251793  \n",
       "Viscera weight  0.242194  \n",
       "Shell weight    0.235391  \n",
       "Rings           0.181831  \n",
       "Sex_F          -0.512528  \n",
       "Sex_I          -0.522541  \n",
       "Sex_M           1.000000  "
      ]
     },
     "execution_count": 23,
     "metadata": {},
     "output_type": "execute_result"
    }
   ],
   "source": [
    "df.corr()"
   ]
  },
  {
   "cell_type": "markdown",
   "id": "88f0f53a",
   "metadata": {},
   "source": [
    "we can also visualise the correlation through heatmap for better understanding"
   ]
  },
  {
   "cell_type": "code",
   "execution_count": 24,
   "id": "2ab29fd6",
   "metadata": {},
   "outputs": [
    {
     "data": {
      "image/png": "[encoded data removed]",
      "text/plain": [
       "<Figure size 2592x2592 with 2 Axes>"
      ]
     },
     "metadata": {
      "needs_background": "light"
     },
     "output_type": "display_data"
    }
   ],
   "source": [
    "plt.figure(figsize=[36,36])\n",
    "sns.heatmap(df.corr(),annot=True)\n",
    "plt.title(\"Correlation Matrix\")\n",
    "plt.show()"
   ]
  },
  {
   "cell_type": "markdown",
   "id": "b85f67fd",
   "metadata": {},
   "source": [
    "This allows to get a much better understanding of the relationships between my variables in a quick glimpse. Immediately, I can see that there are some variables that are strongly correlated to quality. It’s likely that these variables are also the most important features. \n",
    "Let us check this correlation to the target value 'rings'."
   ]
  },
  {
   "cell_type": "code",
   "execution_count": 25,
   "id": "b87a84f3",
   "metadata": {},
   "outputs": [
    {
     "data": {
      "text/plain": [
       "Sex_I            -0.436063\n",
       "Sex_M             0.181831\n",
       "Sex_F             0.250279\n",
       "Shucked weight    0.420884\n",
       "Viscera weight    0.503819\n",
       "Whole weight      0.540390\n",
       "Length            0.556720\n",
       "Height            0.557755\n",
       "Diameter          0.574660\n",
       "Shell weight      0.627574\n",
       "Rings             1.000000\n",
       "Name: Rings, dtype: float64"
      ]
     },
     "execution_count": 25,
     "metadata": {},
     "output_type": "execute_result"
    }
   ],
   "source": [
    "df.corr()['Rings'].sort_values()"
   ]
  },
  {
   "cell_type": "markdown",
   "id": "fe15aed1",
   "metadata": {},
   "source": [
    "We, can see that most data directly correlates with the target value excpet for infant sex which correlates inversly.\n"
   ]
  },
  {
   "cell_type": "markdown",
   "id": "f864c8aa",
   "metadata": {},
   "source": [
    "Now, we produce a boxlot diagram for each column to better understand the distribution of data and outliers"
   ]
  },
  {
   "cell_type": "code",
   "execution_count": 26,
   "id": "3ec8a0cb",
   "metadata": {},
   "outputs": [
    {
     "data": {
      "image/png": "[encoded data removed]",
      "text/plain": [
       "<Figure size 864x864 with 1 Axes>"
      ]
     },
     "metadata": {
      "needs_background": "light"
     },
     "output_type": "display_data"
    },
    {
     "data": {
      "image/png": "[encoded data removed]",
      "text/plain": [
       "<Figure size 864x864 with 1 Axes>"
      ]
     },
     "metadata": {
      "needs_background": "light"
     },
     "output_type": "display_data"
    },
    {
     "data": {
      "image/png": "[encoded data removed]",
      "text/plain": [
       "<Figure size 864x864 with 1 Axes>"
      ]
     },
     "metadata": {
      "needs_background": "light"
     },
     "output_type": "display_data"
    },
    {
     "data": {
      "image/png": "[encoded data removed]",
      "text/plain": [
       "<Figure size 864x864 with 1 Axes>"
      ]
     },
     "metadata": {
      "needs_background": "light"
     },
     "output_type": "display_data"
    },
    {
     "data": {
      "image/png": "[encoded data removed]",
      "text/plain": [
       "<Figure size 864x864 with 1 Axes>"
      ]
     },
     "metadata": {
      "needs_background": "light"
     },
     "output_type": "display_data"
    },
    {
     "data": {
      "image/png": "[encoded data removed]",
      "text/plain": [
       "<Figure size 864x864 with 1 Axes>"
      ]
     },
     "metadata": {
      "needs_background": "light"
     },
     "output_type": "display_data"
    },
    {
     "data": {
      "image/png": "[encoded data removed]",
      "text/plain": [
       "<Figure size 864x864 with 1 Axes>"
      ]
     },
     "metadata": {
      "needs_background": "light"
     },
     "output_type": "display_data"
    },
    {
     "data": {
      "image/png": "[encoded data removed]",
      "text/plain": [
       "<Figure size 864x864 with 1 Axes>"
      ]
     },
     "metadata": {
      "needs_background": "light"
     },
     "output_type": "display_data"
    },
    {
     "data": {
      "image/png": "[encoded data removed]",
      "text/plain": [
       "<Figure size 864x864 with 1 Axes>"
      ]
     },
     "metadata": {
      "needs_background": "light"
     },
     "output_type": "display_data"
    },
    {
     "data": {
      "image/png": "[encoded data removed]",
      "text/plain": [
       "<Figure size 864x864 with 1 Axes>"
      ]
     },
     "metadata": {
      "needs_background": "light"
     },
     "output_type": "display_data"
    },
    {
     "data": {
      "image/png": "[encoded data removed]",
      "text/plain": [
       "<Figure size 864x864 with 1 Axes>"
      ]
     },
     "metadata": {
      "needs_background": "light"
     },
     "output_type": "display_data"
    }
   ],
   "source": [
    "for column in df:\n",
    "    plt.figure(figsize=(12,12))\n",
    "    df.boxplot([column])"
   ]
  },
  {
   "cell_type": "markdown",
   "id": "23a57a92",
   "metadata": {},
   "source": [
    "We see through the above boxplot that various data are present with huge outliers, let us produce a density diagram for the columns to understand the distribution and skewness"
   ]
  },
  {
   "cell_type": "code",
   "execution_count": 29,
   "id": "fe409d13",
   "metadata": {},
   "outputs": [
    {
     "data": {
      "image/png": "[encoded data removed]",
      "text/plain": [
       "<Figure size 432x288 with 1 Axes>"
      ]
     },
     "metadata": {
      "needs_background": "light"
     },
     "output_type": "display_data"
    },
    {
     "data": {
      "image/png": "[encoded data removed]",
      "text/plain": [
       "<Figure size 432x288 with 1 Axes>"
      ]
     },
     "metadata": {
      "needs_background": "light"
     },
     "output_type": "display_data"
    },
    {
     "data": {
      "image/png": "[encoded data removed]",
      "text/plain": [
       "<Figure size 432x288 with 1 Axes>"
      ]
     },
     "metadata": {
      "needs_background": "light"
     },
     "output_type": "display_data"
    },
    {
     "data": {
      "image/png": "[encoded data removed]",
      "text/plain": [
       "<Figure size 432x288 with 1 Axes>"
      ]
     },
     "metadata": {
      "needs_background": "light"
     },
     "output_type": "display_data"
    },
    {
     "data": {
      "image/png": "[encoded data removed]",
      "text/plain": [
       "<Figure size 432x288 with 1 Axes>"
      ]
     },
     "metadata": {
      "needs_background": "light"
     },
     "output_type": "display_data"
    },
    {
     "data": {
      "image/png": "[encoded data removed]",
      "text/plain": [
       "<Figure size 432x288 with 1 Axes>"
      ]
     },
     "metadata": {
      "needs_background": "light"
     },
     "output_type": "display_data"
    },
    {
     "data": {
      "image/png": "[encoded data removed]",
      "text/plain": [
       "<Figure size 432x288 with 1 Axes>"
      ]
     },
     "metadata": {
      "needs_background": "light"
     },
     "output_type": "display_data"
    },
    {
     "data": {
      "image/png": "[encoded data removed]",
      "text/plain": [
       "<Figure size 432x288 with 1 Axes>"
      ]
     },
     "metadata": {
      "needs_background": "light"
     },
     "output_type": "display_data"
    },
    {
     "data": {
      "image/png": "[encoded data removed]",
      "text/plain": [
       "<Figure size 432x288 with 1 Axes>"
      ]
     },
     "metadata": {
      "needs_background": "light"
     },
     "output_type": "display_data"
    },
    {
     "data": {
      "image/png": "[encoded data removed]",
      "text/plain": [
       "<Figure size 432x288 with 1 Axes>"
      ]
     },
     "metadata": {
      "needs_background": "light"
     },
     "output_type": "display_data"
    },
    {
     "data": {
      "image/png": "[encoded data removed]",
      "text/plain": [
       "<Figure size 432x288 with 1 Axes>"
      ]
     },
     "metadata": {
      "needs_background": "light"
     },
     "output_type": "display_data"
    }
   ],
   "source": [
    "import warnings\n",
    "warnings.filterwarnings('ignore')\n",
    "\n",
    "for i in df.columns:\n",
    "    sns.distplot(df[i])\n",
    "    plt.show()"
   ]
  },
  {
   "cell_type": "markdown",
   "id": "fc037845",
   "metadata": {},
   "source": [
    "We can note that there are skewness in the data with almost a normal distribution, let us find the value of skewness."
   ]
  },
  {
   "cell_type": "code",
   "execution_count": 30,
   "id": "707b94d0",
   "metadata": {},
   "outputs": [
    {
     "data": {
      "text/plain": [
       "Length           -0.639873\n",
       "Diameter         -0.609198\n",
       "Whole weight      0.530959\n",
       "Sex_M             0.557390\n",
       "Viscera weight    0.591852\n",
       "Shell weight      0.620927\n",
       "Shucked weight    0.719098\n",
       "Sex_I             0.765708\n",
       "Sex_F             0.807302\n",
       "Rings             1.114102\n",
       "Height            3.166698\n",
       "dtype: float64"
      ]
     },
     "execution_count": 30,
     "metadata": {},
     "output_type": "execute_result"
    }
   ],
   "source": [
    "df.skew().sort_values()"
   ]
  },
  {
   "cell_type": "markdown",
   "id": "5ffcbdb4",
   "metadata": {},
   "source": [
    "Let us use the zscore method to get rid of the outliers present in the data"
   ]
  },
  {
   "cell_type": "code",
   "execution_count": 31,
   "id": "753dc9c3",
   "metadata": {},
   "outputs": [
    {
     "data": {
      "text/plain": [
       "array([[0.57455813, 0.43214879, 1.06836592, ..., 0.67483383, 0.68801788,\n",
       "        1.31667716],\n",
       "       [1.44898585, 1.439929  , 1.18822359, ..., 0.67483383, 0.68801788,\n",
       "        1.31667716],\n",
       "       [0.05003309, 0.12213032, 0.10950458, ..., 1.48184628, 0.68801788,\n",
       "        0.75948762],\n",
       "       ...,\n",
       "       [0.6329849 , 0.67640943, 1.56850276, ..., 0.67483383, 0.68801788,\n",
       "        1.31667716],\n",
       "       [0.84118198, 0.77718745, 0.25006842, ..., 1.48184628, 0.68801788,\n",
       "        0.75948762],\n",
       "       [1.54905203, 1.48263359, 1.32878743, ..., 0.67483383, 0.68801788,\n",
       "        1.31667716]])"
      ]
     },
     "execution_count": 31,
     "metadata": {},
     "output_type": "execute_result"
    }
   ],
   "source": [
    "from scipy.stats import zscore\n",
    "z=np.abs(zscore(df))\n",
    "z"
   ]
  },
  {
   "cell_type": "code",
   "execution_count": 32,
   "id": "480c6d91",
   "metadata": {},
   "outputs": [
    {
     "data": {
      "text/plain": [
       "(4177, 11)"
      ]
     },
     "execution_count": 32,
     "metadata": {},
     "output_type": "execute_result"
    }
   ],
   "source": [
    "z.shape"
   ]
  },
  {
   "cell_type": "markdown",
   "id": "9e128e4b",
   "metadata": {},
   "source": [
    "We know that limit for zscore should be in range from -3 to +3 to produce a normalized data and remove outliers. Let us use this limit to produce the dataset"
   ]
  },
  {
   "cell_type": "code",
   "execution_count": 33,
   "id": "7f95b337",
   "metadata": {},
   "outputs": [
    {
     "name": "stdout",
     "output_type": "stream",
     "text": [
      "(4177, 11)\n",
      "(4029, 11)\n"
     ]
    }
   ],
   "source": [
    "df_new=df[(np.abs(z)<3).all(axis=1)]\n",
    "print(df.shape)\n",
    "print(df_new.shape)"
   ]
  },
  {
   "cell_type": "markdown",
   "id": "2f985027",
   "metadata": {},
   "source": [
    "We remove most of the data that are outliers to produce the dataset to 4029 rows from 4177."
   ]
  },
  {
   "cell_type": "markdown",
   "id": "73df3e55",
   "metadata": {},
   "source": [
    "Let us first split the dataset into feature values and target values before we trwat it for skewness"
   ]
  },
  {
   "cell_type": "code",
   "execution_count": 44,
   "id": "ea125a02",
   "metadata": {},
   "outputs": [],
   "source": [
    "y=df_new[\"Rings\"]\n",
    "x=df_new.drop(columns=\"Rings\")"
   ]
  },
  {
   "cell_type": "markdown",
   "id": "959ef27d",
   "metadata": {},
   "source": [
    "Now, let us treat the independent variables for skewness using power transform method"
   ]
  },
  {
   "cell_type": "code",
   "execution_count": 45,
   "id": "4dd9b74e",
   "metadata": {},
   "outputs": [],
   "source": [
    "from sklearn.preprocessing import power_transform\n",
    "\n",
    "x=power_transform(x, method='yeo-johnson')"
   ]
  },
  {
   "cell_type": "markdown",
   "id": "060a899a",
   "metadata": {},
   "source": [
    "After treating the data for skewness let us move forward with modeling process. However, we will first scale the data suitable for modeling through standard scaler function"
   ]
  },
  {
   "cell_type": "code",
   "execution_count": 47,
   "id": "268933e9",
   "metadata": {},
   "outputs": [],
   "source": [
    "from sklearn.preprocessing import StandardScaler\n",
    "\n",
    "sc=StandardScaler()\n",
    "x=sc.fit_transform(x)"
   ]
  },
  {
   "cell_type": "markdown",
   "id": "0b14e8d1",
   "metadata": {},
   "source": [
    "Now, since the data is ready for modelling. Let us first find the best random state to later plit the data for max accuracy"
   ]
  },
  {
   "cell_type": "markdown",
   "id": "dca00b07",
   "metadata": {},
   "source": [
    "# Best Random State"
   ]
  },
  {
   "cell_type": "code",
   "execution_count": 48,
   "id": "6d45cefe",
   "metadata": {},
   "outputs": [],
   "source": [
    "from sklearn.linear_model import LogisticRegression\n",
    "from sklearn.metrics import accuracy_score\n",
    "from sklearn.metrics import confusion_matrix, classification_report\n",
    "from sklearn.model_selection import train_test_split"
   ]
  },
  {
   "cell_type": "code",
   "execution_count": 49,
   "id": "2b90287b",
   "metadata": {},
   "outputs": [
    {
     "name": "stdout",
     "output_type": "stream",
     "text": [
      "0.3027295285359802 46\n"
     ]
    }
   ],
   "source": [
    "maxAccu=0\n",
    "maxRS=0\n",
    "for i in range(1,100):\n",
    "    x_train, x_test, y_train, y_test = train_test_split(x, y, test_size=.20, random_state=i)\n",
    "    lr = LogisticRegression()\n",
    "    lr.fit(x_train,y_train)\n",
    "    pred = lr.predict(x_test)\n",
    "    acc = accuracy_score(y_test,pred)\n",
    "    if acc>maxAccu:\n",
    "        maxAccu = acc\n",
    "        maxRS = i\n",
    "print(maxAccu, maxRS)"
   ]
  },
  {
   "cell_type": "markdown",
   "id": "39b14d1a",
   "metadata": {},
   "source": [
    "Now, since we have calculated the best random state. We use the random state to split the data into test and train."
   ]
  },
  {
   "cell_type": "code",
   "execution_count": 50,
   "id": "4fc47f6f",
   "metadata": {},
   "outputs": [],
   "source": [
    "x_train, x_test, y_train, y_test = train_test_split(x, y, test_size=.20, random_state=46)\n"
   ]
  },
  {
   "cell_type": "markdown",
   "id": "199391ae",
   "metadata": {},
   "source": [
    "Now we use different modelling classification to produce the best model"
   ]
  },
  {
   "cell_type": "markdown",
   "id": "7771335a",
   "metadata": {},
   "source": [
    "# Logistic Regression"
   ]
  },
  {
   "cell_type": "code",
   "execution_count": 51,
   "id": "e5d3aba5",
   "metadata": {},
   "outputs": [
    {
     "name": "stdout",
     "output_type": "stream",
     "text": [
      "Accuracy: \t 30.272952853598017\n",
      "[[ 2  8  1  0  0  0  0  0  0  0  0  0  0  0  0  0]\n",
      " [ 2  7  9  5  0  0  0  0  0  0  0  0  0  0  0  0]\n",
      " [ 0  4 24 16  5  6  0  0  0  0  1  0  0  0  0  0]\n",
      " [ 0  2 11 37 16  6  2  0  0  0  0  0  0  0  0  0]\n",
      " [ 0  0  8 25 43 38  7  2  0  0  0  0  1  0  0  0]\n",
      " [ 0  0  5 11 20 64 29  3  0  0  1  0  0  0  0  0]\n",
      " [ 0  0  1  7  8 45 37 18  1  5  1  0  0  0  0  0]\n",
      " [ 0  0  0  2  2 18 30 24  1  3  1  0  0  0  0  0]\n",
      " [ 0  0  0  4  1 16 15  9  0  1  4  0  1  0  0  0]\n",
      " [ 0  0  0  3  3  7 17 12  0  4  8  0  1  0  0  0]\n",
      " [ 0  0  0  0  1  0  9  4  0  2  1  0  0  0  0  0]\n",
      " [ 0  0  0  0  1  3  7  2  2  5  0  0  0  0  0  0]\n",
      " [ 0  0  0  0  1  2  5  3  2  3  1  0  0  0  0  0]\n",
      " [ 0  0  0  0  1  0  4  4  1  1  1  0  0  1  0  0]\n",
      " [ 0  0  0  0  1  0  1  2  1  1  0  0  0  0  0  0]\n",
      " [ 0  0  0  0  0  0  0  2  0  0  0  0  0  0  0  0]]\n",
      "              precision    recall  f1-score   support\n",
      "\n",
      "           4       0.50      0.18      0.27        11\n",
      "           5       0.33      0.30      0.32        23\n",
      "           6       0.41      0.43      0.42        56\n",
      "           7       0.34      0.50      0.40        74\n",
      "           8       0.42      0.35      0.38       124\n",
      "           9       0.31      0.48      0.38       133\n",
      "          10       0.23      0.30      0.26       123\n",
      "          11       0.28      0.30      0.29        81\n",
      "          12       0.00      0.00      0.00        51\n",
      "          13       0.16      0.07      0.10        55\n",
      "          14       0.05      0.06      0.06        17\n",
      "          15       0.00      0.00      0.00        20\n",
      "          16       0.00      0.00      0.00        17\n",
      "          17       1.00      0.08      0.14        13\n",
      "          18       0.00      0.00      0.00         6\n",
      "          19       0.00      0.00      0.00         2\n",
      "\n",
      "    accuracy                           0.30       806\n",
      "   macro avg       0.25      0.19      0.19       806\n",
      "weighted avg       0.28      0.30      0.28       806\n",
      "\n"
     ]
    }
   ],
   "source": [
    "lr = LogisticRegression()\n",
    "lr.fit(x_train,y_train)\n",
    "pred = lr.predict(x_test)\n",
    "print(\"Accuracy: \\t\", accuracy_score(y_test,pred)*100)\n",
    "print(confusion_matrix(y_test,pred))\n",
    "print(classification_report(y_test,pred))"
   ]
  },
  {
   "cell_type": "markdown",
   "id": "e44e6d95",
   "metadata": {},
   "source": [
    "# Decision Tree Classifier"
   ]
  },
  {
   "cell_type": "code",
   "execution_count": 52,
   "id": "f1ba2d16",
   "metadata": {},
   "outputs": [
    {
     "name": "stdout",
     "output_type": "stream",
     "text": [
      "Accuracy: \t 19.35483870967742\n",
      "[[ 0  0  0  0  0  0  0  0  0  0  0  0  0  0  0  0  0]\n",
      " [ 1  2  5  2  1  0  0  0  0  0  0  0  0  0  0  0  0]\n",
      " [ 0  6  7  3  5  0  1  0  1  0  0  0  0  0  0  0  0]\n",
      " [ 0  1  6 16 18  8  4  0  1  0  1  1  0  0  0  0  0]\n",
      " [ 0  0  0 17 23 14  7  6  4  1  1  1  0  0  0  0  0]\n",
      " [ 0  0  1 12 22 27 29 13 13  1  3  1  1  0  0  0  1]\n",
      " [ 0  0  3  2 13 25 22 27 22 10  4  1  0  1  0  1  2]\n",
      " [ 0  0  0  1  7 15 33 22 19  8  5  1  3  1  2  3  3]\n",
      " [ 0  0  0  0  2  7 14 17 20  4  7  4  3  1  1  0  1]\n",
      " [ 0  0  0  1  1  4  6 16  8  3  5  2  2  1  1  0  1]\n",
      " [ 0  0  0  2  1  1  6 10  9  6  8  3  2  2  0  3  2]\n",
      " [ 0  0  0  0  0  0  2  1  3  3  2  1  1  1  1  1  1]\n",
      " [ 0  0  0  0  1  0  2  7  1  2  2  2  1  0  0  1  1]\n",
      " [ 0  0  0  0  0  1  1  3  1  2  1  3  1  2  2  0  0]\n",
      " [ 0  0  0  0  0  0  1  2  4  2  1  1  0  0  2  0  0]\n",
      " [ 0  0  0  0  0  1  1  0  2  0  0  1  0  1  0  0  0]\n",
      " [ 0  0  0  0  0  0  0  0  0  1  1  0  0  0  0  0  0]]\n",
      "              precision    recall  f1-score   support\n",
      "\n",
      "           3       0.00      0.00      0.00         0\n",
      "           4       0.22      0.18      0.20        11\n",
      "           5       0.32      0.30      0.31        23\n",
      "           6       0.29      0.29      0.29        56\n",
      "           7       0.24      0.31      0.27        74\n",
      "           8       0.26      0.22      0.24       124\n",
      "           9       0.17      0.17      0.17       133\n",
      "          10       0.18      0.18      0.18       123\n",
      "          11       0.19      0.25      0.21        81\n",
      "          12       0.07      0.06      0.06        51\n",
      "          13       0.20      0.15      0.17        55\n",
      "          14       0.05      0.06      0.05        17\n",
      "          15       0.07      0.05      0.06        20\n",
      "          16       0.20      0.12      0.15        17\n",
      "          17       0.22      0.15      0.18        13\n",
      "          18       0.00      0.00      0.00         6\n",
      "          19       0.00      0.00      0.00         2\n",
      "\n",
      "    accuracy                           0.19       806\n",
      "   macro avg       0.16      0.15      0.15       806\n",
      "weighted avg       0.20      0.19      0.19       806\n",
      "\n"
     ]
    }
   ],
   "source": [
    "from sklearn.tree import DecisionTreeClassifier\n",
    "\n",
    "dt = DecisionTreeClassifier()\n",
    "dt.fit(x_train,y_train)\n",
    "pred = dt.predict(x_test)\n",
    "print(\"Accuracy: \\t\", accuracy_score(y_test,pred)*100)\n",
    "print(confusion_matrix(y_test,pred))\n",
    "print(classification_report(y_test,pred))"
   ]
  },
  {
   "cell_type": "markdown",
   "id": "1ede4d1a",
   "metadata": {},
   "source": [
    "# Random Forest Classifier"
   ]
  },
  {
   "cell_type": "code",
   "execution_count": 53,
   "id": "a73f0710",
   "metadata": {},
   "outputs": [
    {
     "name": "stdout",
     "output_type": "stream",
     "text": [
      "Accuracy: \t 27.791563275434246\n",
      "[[ 0  0  0  0  0  0  0  0  0  0  0  0  0  0  0  0  0]\n",
      " [ 1  5  4  1  0  0  0  0  0  0  0  0  0  0  0  0  0]\n",
      " [ 1  5  8  5  2  1  1  0  0  0  0  0  0  0  0  0  0]\n",
      " [ 0  0  6 20 21  4  2  1  1  0  1  0  0  0  0  0  0]\n",
      " [ 0  0  2 11 32 19  6  4  0  0  0  0  0  0  0  0  0]\n",
      " [ 0  0  1  7 30 39 24 16  6  0  0  1  0  0  0  0  0]\n",
      " [ 0  0  1  2  7 29 47 28 13  2  2  2  0  0  0  0  0]\n",
      " [ 0  0  0  1  3 16 33 38 23  4  0  3  1  1  0  0  0]\n",
      " [ 0  0  0  0  1  5 19 20 26  3  4  1  2  0  0  0  0]\n",
      " [ 0  0  0  1  0  4  8 13 11  4  3  5  1  1  0  0  0]\n",
      " [ 0  0  0  1  0  6  3 15 12  5  5  2  2  2  2  0  0]\n",
      " [ 0  0  0  0  0  3  1  5  4  1  1  0  0  0  1  0  1]\n",
      " [ 0  0  0  0  0  1  4  3  4  1  3  2  0  0  2  0  0]\n",
      " [ 0  0  0  0  0  0  2  6  3  2  1  0  2  0  1  0  0]\n",
      " [ 0  0  0  0  0  0  1  4  2  0  2  2  0  2  0  0  0]\n",
      " [ 0  0  0  0  0  1  1  3  1  0  0  0  0  0  0  0  0]\n",
      " [ 0  0  0  0  0  0  0  0  0  1  1  0  0  0  0  0  0]]\n",
      "              precision    recall  f1-score   support\n",
      "\n",
      "           3       0.00      0.00      0.00         0\n",
      "           4       0.50      0.45      0.48        11\n",
      "           5       0.36      0.35      0.36        23\n",
      "           6       0.41      0.36      0.38        56\n",
      "           7       0.33      0.43      0.38        74\n",
      "           8       0.30      0.31      0.31       124\n",
      "           9       0.31      0.35      0.33       133\n",
      "          10       0.24      0.31      0.27       123\n",
      "          11       0.25      0.32      0.28        81\n",
      "          12       0.17      0.08      0.11        51\n",
      "          13       0.22      0.09      0.13        55\n",
      "          14       0.00      0.00      0.00        17\n",
      "          15       0.00      0.00      0.00        20\n",
      "          16       0.00      0.00      0.00        17\n",
      "          17       0.00      0.00      0.00        13\n",
      "          18       0.00      0.00      0.00         6\n",
      "          19       0.00      0.00      0.00         2\n",
      "\n",
      "    accuracy                           0.28       806\n",
      "   macro avg       0.18      0.18      0.18       806\n",
      "weighted avg       0.26      0.28      0.26       806\n",
      "\n"
     ]
    }
   ],
   "source": [
    "from sklearn.ensemble import RandomForestClassifier\n",
    "\n",
    "rf = RandomForestClassifier()\n",
    "rf.fit(x_train,y_train)\n",
    "pred = rf.predict(x_test)\n",
    "print(\"Accuracy: \\t\", accuracy_score(y_test,pred)*100)\n",
    "print(confusion_matrix(y_test,pred))\n",
    "print(classification_report(y_test,pred))"
   ]
  },
  {
   "cell_type": "markdown",
   "id": "68ac402d",
   "metadata": {},
   "source": [
    "# SVC"
   ]
  },
  {
   "cell_type": "code",
   "execution_count": 54,
   "id": "5df3d30f",
   "metadata": {},
   "outputs": [
    {
     "name": "stdout",
     "output_type": "stream",
     "text": [
      "Accuracy: \t 30.52109181141439\n",
      "[[ 0  9  0  2  0  0  0  0  0  0  0  0  0  0  0  0]\n",
      " [ 0 11  6  5  0  1  0  0  0  0  0  0  0  0  0  0]\n",
      " [ 0  6 19 20  3  6  2  0  0  0  0  0  0  0  0  0]\n",
      " [ 0  2  5 36 14 15  2  0  0  0  0  0  0  0  0  0]\n",
      " [ 0  0  3 31 29 50 10  1  0  0  0  0  0  0  0  0]\n",
      " [ 0  0  4  2 15 79 32  1  0  0  0  0  0  0  0  0]\n",
      " [ 0  0  1  3  7 52 49 11  0  0  0  0  0  0  0  0]\n",
      " [ 0  0  0  2  2 24 30 23  0  0  0  0  0  0  0  0]\n",
      " [ 0  0  0  1  0 22 22  6  0  0  0  0  0  0  0  0]\n",
      " [ 0  0  0  2  3 16 25  9  0  0  0  0  0  0  0  0]\n",
      " [ 0  0  0  0  1  3 10  3  0  0  0  0  0  0  0  0]\n",
      " [ 0  0  0  0  1  7 12  0  0  0  0  0  0  0  0  0]\n",
      " [ 0  0  0  0  1  4 10  2  0  0  0  0  0  0  0  0]\n",
      " [ 0  0  0  0  0  4  7  2  0  0  0  0  0  0  0  0]\n",
      " [ 0  0  0  0  1  1  4  0  0  0  0  0  0  0  0  0]\n",
      " [ 0  0  0  0  0  0  1  1  0  0  0  0  0  0  0  0]]\n",
      "              precision    recall  f1-score   support\n",
      "\n",
      "           4       0.00      0.00      0.00        11\n",
      "           5       0.39      0.48      0.43        23\n",
      "           6       0.50      0.34      0.40        56\n",
      "           7       0.35      0.49      0.40        74\n",
      "           8       0.38      0.23      0.29       124\n",
      "           9       0.28      0.59      0.38       133\n",
      "          10       0.23      0.40      0.29       123\n",
      "          11       0.39      0.28      0.33        81\n",
      "          12       0.00      0.00      0.00        51\n",
      "          13       0.00      0.00      0.00        55\n",
      "          14       0.00      0.00      0.00        17\n",
      "          15       0.00      0.00      0.00        20\n",
      "          16       0.00      0.00      0.00        17\n",
      "          17       0.00      0.00      0.00        13\n",
      "          18       0.00      0.00      0.00         6\n",
      "          19       0.00      0.00      0.00         2\n",
      "\n",
      "    accuracy                           0.31       806\n",
      "   macro avg       0.16      0.18      0.16       806\n",
      "weighted avg       0.26      0.31      0.26       806\n",
      "\n"
     ]
    }
   ],
   "source": [
    "from sklearn.svm import SVC\n",
    "\n",
    "svc = SVC()\n",
    "svc.fit(x_train,y_train)\n",
    "pred = svc.predict(x_test)\n",
    "print(\"Accuracy: \\t\", accuracy_score(y_test,pred)*100)\n",
    "print(confusion_matrix(y_test,pred))\n",
    "print(classification_report(y_test,pred))"
   ]
  },
  {
   "cell_type": "markdown",
   "id": "2aa6eab1",
   "metadata": {},
   "source": [
    "# Cross Validation"
   ]
  },
  {
   "cell_type": "markdown",
   "id": "e2e30f44",
   "metadata": {},
   "source": [
    "Now we do a crossvalidation for the models"
   ]
  },
  {
   "cell_type": "code",
   "execution_count": 55,
   "id": "13f16503",
   "metadata": {},
   "outputs": [],
   "source": [
    "from sklearn.model_selection import cross_val_score "
   ]
  },
  {
   "cell_type": "code",
   "execution_count": 56,
   "id": "66ecbe6f",
   "metadata": {},
   "outputs": [
    {
     "name": "stdout",
     "output_type": "stream",
     "text": [
      "Cross validation score of Logistic Regression is: \t 0.2725265477860148\n"
     ]
    }
   ],
   "source": [
    "scr1 = cross_val_score(lr, x, y, cv=5)\n",
    "print(\"Cross validation score of Logistic Regression is: \\t\", scr1.mean())"
   ]
  },
  {
   "cell_type": "code",
   "execution_count": 57,
   "id": "44db17cf",
   "metadata": {},
   "outputs": [
    {
     "name": "stdout",
     "output_type": "stream",
     "text": [
      "Cross validation score of Random Forest is: \t 0.26210132083904875\n"
     ]
    }
   ],
   "source": [
    "scr2 = cross_val_score(rf, x, y, cv=5)\n",
    "print(\"Cross validation score of Random Forest is: \\t\", scr2.mean())"
   ]
  },
  {
   "cell_type": "code",
   "execution_count": 58,
   "id": "afdba8e6",
   "metadata": {},
   "outputs": [
    {
     "name": "stdout",
     "output_type": "stream",
     "text": [
      "Cross validation score of Decision Tree is: \t 0.1928560639921089\n"
     ]
    }
   ],
   "source": [
    "scr3 = cross_val_score(dt, x, y, cv=5)\n",
    "print(\"Cross validation score of Decision Tree is: \\t\", scr3.mean())"
   ]
  },
  {
   "cell_type": "code",
   "execution_count": 59,
   "id": "1c95f0c4",
   "metadata": {},
   "outputs": [
    {
     "name": "stdout",
     "output_type": "stream",
     "text": [
      "Cross validation score of SVC is: \t 0.26681966000339075\n"
     ]
    }
   ],
   "source": [
    "scr4 = cross_val_score(svc, x, y, cv=5)\n",
    "print(\"Cross validation score of SVC is: \\t\", scr4.mean())"
   ]
  },
  {
   "cell_type": "markdown",
   "id": "8a7f4535",
   "metadata": {},
   "source": [
    "We can see that Logistic Regression performs the best among others"
   ]
  },
  {
   "cell_type": "markdown",
   "id": "3663b77c",
   "metadata": {},
   "source": [
    "# Hyper Parameter Tuning"
   ]
  },
  {
   "cell_type": "code",
   "execution_count": 60,
   "id": "4d5c2742",
   "metadata": {},
   "outputs": [],
   "source": [
    "from sklearn.model_selection import GridSearchCV"
   ]
  },
  {
   "cell_type": "code",
   "execution_count": 61,
   "id": "16a3ad6a",
   "metadata": {},
   "outputs": [],
   "source": [
    "parameters = {'C': np.logspace(-3,3,7),\n",
    "              'solver': ['newton-cg','lbfgs','liblinear']}"
   ]
  },
  {
   "cell_type": "code",
   "execution_count": 62,
   "id": "3ff9eb5d",
   "metadata": {},
   "outputs": [],
   "source": [
    "gcv=GridSearchCV(lr,parameters,cv=5,scoring='accuracy')"
   ]
  },
  {
   "cell_type": "code",
   "execution_count": 63,
   "id": "25279e92",
   "metadata": {},
   "outputs": [
    {
     "data": {
      "text/plain": [
       "GridSearchCV(cv=5, estimator=LogisticRegression(),\n",
       "             param_grid={'C': array([1.e-03, 1.e-02, 1.e-01, 1.e+00, 1.e+01, 1.e+02, 1.e+03]),\n",
       "                         'solver': ['newton-cg', 'lbfgs', 'liblinear']},\n",
       "             scoring='accuracy')"
      ]
     },
     "execution_count": 63,
     "metadata": {},
     "output_type": "execute_result"
    }
   ],
   "source": [
    "gcv.fit(x_train,y_train)"
   ]
  },
  {
   "cell_type": "code",
   "execution_count": 64,
   "id": "f145e969",
   "metadata": {},
   "outputs": [
    {
     "data": {
      "text/plain": [
       "{'C': 1.0, 'solver': 'newton-cg'}"
      ]
     },
     "execution_count": 64,
     "metadata": {},
     "output_type": "execute_result"
    }
   ],
   "source": [
    "gcv.best_params_"
   ]
  },
  {
   "cell_type": "code",
   "execution_count": 65,
   "id": "92b4877a",
   "metadata": {},
   "outputs": [
    {
     "name": "stdout",
     "output_type": "stream",
     "text": [
      "Tuned Hyperparameters : {'C': 1.0, 'solver': 'newton-cg'}\n",
      "Accuracy : 0.26404593384370934\n"
     ]
    }
   ],
   "source": [
    "print(\"Tuned Hyperparameters :\", gcv.best_params_)\n",
    "print(\"Accuracy :\",gcv.best_score_)"
   ]
  },
  {
   "cell_type": "code",
   "execution_count": 66,
   "id": "0ed1fccd",
   "metadata": {},
   "outputs": [
    {
     "data": {
      "text/plain": [
       "0.3052109181141439"
      ]
     },
     "execution_count": 66,
     "metadata": {},
     "output_type": "execute_result"
    }
   ],
   "source": [
    "gcv_pred=gcv.best_estimator_.predict(x_test)\n",
    "accuracy_score(y_test,gcv_pred)"
   ]
  },
  {
   "cell_type": "markdown",
   "id": "74d29dda",
   "metadata": {},
   "source": [
    "Now, we dump the data using pickle feature"
   ]
  },
  {
   "cell_type": "code",
   "execution_count": 68,
   "id": "d9a868ef",
   "metadata": {},
   "outputs": [
    {
     "data": {
      "text/plain": [
       "['abalone.pkl']"
      ]
     },
     "execution_count": 68,
     "metadata": {},
     "output_type": "execute_result"
    }
   ],
   "source": [
    "import joblib\n",
    "joblib.dump(gcv.best_estimator_,\"abalone.pkl\")"
   ]
  },
  {
   "cell_type": "code",
   "execution_count": null,
   "id": "d9cd1d66",
   "metadata": {},
   "outputs": [],
   "source": []
  }
 ],
 "metadata": {
  "kernelspec": {
   "display_name": "Python 3",
   "language": "python",
   "name": "python3"
  },
  "language_info": {
   "codemirror_mode": {
    "name": "ipython",
    "version": 3
   },
   "file_extension": ".py",
   "mimetype": "text/x-python",
   "name": "python",
   "nbconvert_exporter": "python",
   "pygments_lexer": "ipython3",
   "version": "3.8.8"
  }
 },
 "nbformat": 4,
 "nbformat_minor": 5
}
