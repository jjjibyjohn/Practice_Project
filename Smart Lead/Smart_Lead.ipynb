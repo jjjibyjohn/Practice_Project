{
 "cells": [
  {
   "cell_type": "markdown",
   "id": "13ab3c60",
   "metadata": {},
   "source": [
    "# Importing the Library"
   ]
  },
  {
   "cell_type": "code",
   "execution_count": 113,
   "id": "05bc664a",
   "metadata": {},
   "outputs": [],
   "source": [
    "import numpy as np\n",
    "import pandas as pd\n",
    "import seaborn as sns\n",
    "import matplotlib.pyplot as plt\n",
    "import datetime\n",
    "from scipy.stats import boxcox, zscore, yeojohnson\n",
    "from sklearn.utils import resample\n",
    "from sklearn.preprocessing import StandardScaler\n",
    "from sklearn.linear_model import LogisticRegression \n",
    "from sklearn.metrics import f1_score, confusion_matrix, classification_report, plot_roc_curve\n",
    "from sklearn.model_selection import train_test_split, cross_val_score, GridSearchCV\n",
    "from sklearn.tree import DecisionTreeClassifier\n",
    "from sklearn.ensemble import RandomForestClassifier\n",
    "from sklearn.neighbors import KNeighborsClassifier\n",
    "from sklearn.svm import SVC\n",
    "from xgboost import XGBClassifier\n",
    "import joblib\n",
    "\n",
    "import warnings\n",
    "warnings.filterwarnings('ignore')"
   ]
  },
  {
   "cell_type": "markdown",
   "id": "488e55fd",
   "metadata": {},
   "source": [
    "# Data Collection"
   ]
  },
  {
   "cell_type": "code",
   "execution_count": 114,
   "id": "ef29dd62",
   "metadata": {},
   "outputs": [],
   "source": [
    "#Calling the train data\n",
    "train = pd.read_csv(r\"C:\\Users\\jjjib\\Desktop\\Analytics Vidhya\\train_wn75k28.csv\")"
   ]
  },
  {
   "cell_type": "code",
   "execution_count": 115,
   "id": "791626ba",
   "metadata": {},
   "outputs": [],
   "source": [
    "#Calling the test data\n",
    "test = pd.read_csv(r\"C:\\Users\\jjjib\\Desktop\\Analytics Vidhya\\test_Wf7sxXF.csv\")"
   ]
  },
  {
   "cell_type": "markdown",
   "id": "2c9af113",
   "metadata": {},
   "source": [
    "# Data Understanding"
   ]
  },
  {
   "cell_type": "code",
   "execution_count": 116,
   "id": "c34cef05",
   "metadata": {},
   "outputs": [
    {
     "data": {
      "text/html": [
       "<div>\n",
       "<style scoped>\n",
       "    .dataframe tbody tr th:only-of-type {\n",
       "        vertical-align: middle;\n",
       "    }\n",
       "\n",
       "    .dataframe tbody tr th {\n",
       "        vertical-align: top;\n",
       "    }\n",
       "\n",
       "    .dataframe thead th {\n",
       "        text-align: right;\n",
       "    }\n",
       "</style>\n",
       "<table border=\"1\" class=\"dataframe\">\n",
       "  <thead>\n",
       "    <tr style=\"text-align: right;\">\n",
       "      <th></th>\n",
       "      <th>id</th>\n",
       "      <th>created_at</th>\n",
       "      <th>campaign_var_1</th>\n",
       "      <th>campaign_var_2</th>\n",
       "      <th>products_purchased</th>\n",
       "      <th>signup_date</th>\n",
       "      <th>user_activity_var_1</th>\n",
       "      <th>user_activity_var_2</th>\n",
       "      <th>user_activity_var_3</th>\n",
       "      <th>user_activity_var_4</th>\n",
       "      <th>user_activity_var_5</th>\n",
       "      <th>user_activity_var_6</th>\n",
       "      <th>user_activity_var_7</th>\n",
       "      <th>user_activity_var_8</th>\n",
       "      <th>user_activity_var_9</th>\n",
       "      <th>user_activity_var_10</th>\n",
       "      <th>user_activity_var_11</th>\n",
       "      <th>user_activity_var_12</th>\n",
       "      <th>buy</th>\n",
       "    </tr>\n",
       "  </thead>\n",
       "  <tbody>\n",
       "    <tr>\n",
       "      <th>0</th>\n",
       "      <td>1</td>\n",
       "      <td>2021-01-01</td>\n",
       "      <td>1</td>\n",
       "      <td>2</td>\n",
       "      <td>2.0</td>\n",
       "      <td>2020-09-24</td>\n",
       "      <td>0</td>\n",
       "      <td>0</td>\n",
       "      <td>0</td>\n",
       "      <td>0</td>\n",
       "      <td>0</td>\n",
       "      <td>0</td>\n",
       "      <td>1</td>\n",
       "      <td>1</td>\n",
       "      <td>0</td>\n",
       "      <td>0</td>\n",
       "      <td>0</td>\n",
       "      <td>0</td>\n",
       "      <td>0</td>\n",
       "    </tr>\n",
       "    <tr>\n",
       "      <th>1</th>\n",
       "      <td>2</td>\n",
       "      <td>2021-01-01</td>\n",
       "      <td>2</td>\n",
       "      <td>1</td>\n",
       "      <td>2.0</td>\n",
       "      <td>2020-09-19</td>\n",
       "      <td>1</td>\n",
       "      <td>0</td>\n",
       "      <td>1</td>\n",
       "      <td>0</td>\n",
       "      <td>0</td>\n",
       "      <td>0</td>\n",
       "      <td>1</td>\n",
       "      <td>0</td>\n",
       "      <td>0</td>\n",
       "      <td>0</td>\n",
       "      <td>0</td>\n",
       "      <td>0</td>\n",
       "      <td>0</td>\n",
       "    </tr>\n",
       "    <tr>\n",
       "      <th>2</th>\n",
       "      <td>3</td>\n",
       "      <td>2021-01-01</td>\n",
       "      <td>9</td>\n",
       "      <td>3</td>\n",
       "      <td>3.0</td>\n",
       "      <td>2021-08-11</td>\n",
       "      <td>1</td>\n",
       "      <td>0</td>\n",
       "      <td>0</td>\n",
       "      <td>0</td>\n",
       "      <td>0</td>\n",
       "      <td>0</td>\n",
       "      <td>0</td>\n",
       "      <td>0</td>\n",
       "      <td>0</td>\n",
       "      <td>0</td>\n",
       "      <td>0</td>\n",
       "      <td>0</td>\n",
       "      <td>0</td>\n",
       "    </tr>\n",
       "    <tr>\n",
       "      <th>3</th>\n",
       "      <td>4</td>\n",
       "      <td>2021-01-01</td>\n",
       "      <td>6</td>\n",
       "      <td>7</td>\n",
       "      <td>2.0</td>\n",
       "      <td>2017-10-04</td>\n",
       "      <td>0</td>\n",
       "      <td>0</td>\n",
       "      <td>0</td>\n",
       "      <td>0</td>\n",
       "      <td>0</td>\n",
       "      <td>0</td>\n",
       "      <td>0</td>\n",
       "      <td>0</td>\n",
       "      <td>0</td>\n",
       "      <td>0</td>\n",
       "      <td>0</td>\n",
       "      <td>0</td>\n",
       "      <td>0</td>\n",
       "    </tr>\n",
       "    <tr>\n",
       "      <th>4</th>\n",
       "      <td>5</td>\n",
       "      <td>2021-01-01</td>\n",
       "      <td>4</td>\n",
       "      <td>6</td>\n",
       "      <td>NaN</td>\n",
       "      <td>2020-06-08</td>\n",
       "      <td>0</td>\n",
       "      <td>0</td>\n",
       "      <td>0</td>\n",
       "      <td>0</td>\n",
       "      <td>0</td>\n",
       "      <td>0</td>\n",
       "      <td>1</td>\n",
       "      <td>0</td>\n",
       "      <td>0</td>\n",
       "      <td>0</td>\n",
       "      <td>1</td>\n",
       "      <td>0</td>\n",
       "      <td>0</td>\n",
       "    </tr>\n",
       "  </tbody>\n",
       "</table>\n",
       "</div>"
      ],
      "text/plain": [
       "   id  created_at  campaign_var_1  campaign_var_2  products_purchased  \\\n",
       "0   1  2021-01-01               1               2                 2.0   \n",
       "1   2  2021-01-01               2               1                 2.0   \n",
       "2   3  2021-01-01               9               3                 3.0   \n",
       "3   4  2021-01-01               6               7                 2.0   \n",
       "4   5  2021-01-01               4               6                 NaN   \n",
       "\n",
       "  signup_date  user_activity_var_1  user_activity_var_2  user_activity_var_3  \\\n",
       "0  2020-09-24                    0                    0                    0   \n",
       "1  2020-09-19                    1                    0                    1   \n",
       "2  2021-08-11                    1                    0                    0   \n",
       "3  2017-10-04                    0                    0                    0   \n",
       "4  2020-06-08                    0                    0                    0   \n",
       "\n",
       "   user_activity_var_4  user_activity_var_5  user_activity_var_6  \\\n",
       "0                    0                    0                    0   \n",
       "1                    0                    0                    0   \n",
       "2                    0                    0                    0   \n",
       "3                    0                    0                    0   \n",
       "4                    0                    0                    0   \n",
       "\n",
       "   user_activity_var_7  user_activity_var_8  user_activity_var_9  \\\n",
       "0                    1                    1                    0   \n",
       "1                    1                    0                    0   \n",
       "2                    0                    0                    0   \n",
       "3                    0                    0                    0   \n",
       "4                    1                    0                    0   \n",
       "\n",
       "   user_activity_var_10  user_activity_var_11  user_activity_var_12  buy  \n",
       "0                     0                     0                     0    0  \n",
       "1                     0                     0                     0    0  \n",
       "2                     0                     0                     0    0  \n",
       "3                     0                     0                     0    0  \n",
       "4                     0                     1                     0    0  "
      ]
     },
     "execution_count": 116,
     "metadata": {},
     "output_type": "execute_result"
    }
   ],
   "source": [
    "train.head() #Looking into the top 5 rows of the dataset"
   ]
  },
  {
   "cell_type": "code",
   "execution_count": 117,
   "id": "03d2f6fa",
   "metadata": {},
   "outputs": [
    {
     "data": {
      "text/plain": [
       "(39161, 19)"
      ]
     },
     "execution_count": 117,
     "metadata": {},
     "output_type": "execute_result"
    }
   ],
   "source": [
    "train.shape #Looking into the shape of the dataset"
   ]
  },
  {
   "cell_type": "code",
   "execution_count": 118,
   "id": "849220eb",
   "metadata": {},
   "outputs": [
    {
     "data": {
      "text/plain": [
       "(13184, 18)"
      ]
     },
     "execution_count": 118,
     "metadata": {},
     "output_type": "execute_result"
    }
   ],
   "source": [
    "test.shape #Looking into the shape of the dataset"
   ]
  },
  {
   "cell_type": "code",
   "execution_count": 119,
   "id": "3b84df9e",
   "metadata": {},
   "outputs": [
    {
     "name": "stdout",
     "output_type": "stream",
     "text": [
      "<class 'pandas.core.frame.DataFrame'>\n",
      "RangeIndex: 39161 entries, 0 to 39160\n",
      "Data columns (total 19 columns):\n",
      " #   Column                Non-Null Count  Dtype  \n",
      "---  ------                --------------  -----  \n",
      " 0   id                    39161 non-null  int64  \n",
      " 1   created_at            39161 non-null  object \n",
      " 2   campaign_var_1        39161 non-null  int64  \n",
      " 3   campaign_var_2        39161 non-null  int64  \n",
      " 4   products_purchased    18250 non-null  float64\n",
      " 5   signup_date           24048 non-null  object \n",
      " 6   user_activity_var_1   39161 non-null  int64  \n",
      " 7   user_activity_var_2   39161 non-null  int64  \n",
      " 8   user_activity_var_3   39161 non-null  int64  \n",
      " 9   user_activity_var_4   39161 non-null  int64  \n",
      " 10  user_activity_var_5   39161 non-null  int64  \n",
      " 11  user_activity_var_6   39161 non-null  int64  \n",
      " 12  user_activity_var_7   39161 non-null  int64  \n",
      " 13  user_activity_var_8   39161 non-null  int64  \n",
      " 14  user_activity_var_9   39161 non-null  int64  \n",
      " 15  user_activity_var_10  39161 non-null  int64  \n",
      " 16  user_activity_var_11  39161 non-null  int64  \n",
      " 17  user_activity_var_12  39161 non-null  int64  \n",
      " 18  buy                   39161 non-null  int64  \n",
      "dtypes: float64(1), int64(16), object(2)\n",
      "memory usage: 5.7+ MB\n"
     ]
    }
   ],
   "source": [
    "train.info() #Getting the information on the train datset"
   ]
  },
  {
   "cell_type": "code",
   "execution_count": 120,
   "id": "92baaa1f",
   "metadata": {},
   "outputs": [
    {
     "name": "stdout",
     "output_type": "stream",
     "text": [
      "<class 'pandas.core.frame.DataFrame'>\n",
      "RangeIndex: 13184 entries, 0 to 13183\n",
      "Data columns (total 18 columns):\n",
      " #   Column                Non-Null Count  Dtype  \n",
      "---  ------                --------------  -----  \n",
      " 0   id                    13184 non-null  int64  \n",
      " 1   created_at            13184 non-null  object \n",
      " 2   campaign_var_1        13184 non-null  int64  \n",
      " 3   campaign_var_2        13184 non-null  int64  \n",
      " 4   products_purchased    5048 non-null   float64\n",
      " 5   signup_date           6535 non-null   object \n",
      " 6   user_activity_var_1   13184 non-null  int64  \n",
      " 7   user_activity_var_2   13184 non-null  int64  \n",
      " 8   user_activity_var_3   13184 non-null  int64  \n",
      " 9   user_activity_var_4   13184 non-null  int64  \n",
      " 10  user_activity_var_5   13184 non-null  int64  \n",
      " 11  user_activity_var_6   13184 non-null  int64  \n",
      " 12  user_activity_var_7   13184 non-null  int64  \n",
      " 13  user_activity_var_8   13184 non-null  int64  \n",
      " 14  user_activity_var_9   13184 non-null  int64  \n",
      " 15  user_activity_var_10  13184 non-null  int64  \n",
      " 16  user_activity_var_11  13184 non-null  int64  \n",
      " 17  user_activity_var_12  13184 non-null  int64  \n",
      "dtypes: float64(1), int64(15), object(2)\n",
      "memory usage: 1.8+ MB\n"
     ]
    }
   ],
   "source": [
    "test.info() #Getting the information on the test datset"
   ]
  },
  {
   "cell_type": "code",
   "execution_count": 121,
   "id": "b8c449d4",
   "metadata": {},
   "outputs": [
    {
     "data": {
      "text/plain": [
       "id                          0\n",
       "created_at                  0\n",
       "campaign_var_1              0\n",
       "campaign_var_2              0\n",
       "products_purchased      20911\n",
       "signup_date             15113\n",
       "user_activity_var_1         0\n",
       "user_activity_var_2         0\n",
       "user_activity_var_3         0\n",
       "user_activity_var_4         0\n",
       "user_activity_var_5         0\n",
       "user_activity_var_6         0\n",
       "user_activity_var_7         0\n",
       "user_activity_var_8         0\n",
       "user_activity_var_9         0\n",
       "user_activity_var_10        0\n",
       "user_activity_var_11        0\n",
       "user_activity_var_12        0\n",
       "buy                         0\n",
       "dtype: int64"
      ]
     },
     "execution_count": 121,
     "metadata": {},
     "output_type": "execute_result"
    }
   ],
   "source": [
    "train.isnull().sum() #Checking for null values in train data"
   ]
  },
  {
   "cell_type": "code",
   "execution_count": 122,
   "id": "31b1aec1",
   "metadata": {},
   "outputs": [
    {
     "data": {
      "text/plain": [
       "id                         0\n",
       "created_at                 0\n",
       "campaign_var_1             0\n",
       "campaign_var_2             0\n",
       "products_purchased      8136\n",
       "signup_date             6649\n",
       "user_activity_var_1        0\n",
       "user_activity_var_2        0\n",
       "user_activity_var_3        0\n",
       "user_activity_var_4        0\n",
       "user_activity_var_5        0\n",
       "user_activity_var_6        0\n",
       "user_activity_var_7        0\n",
       "user_activity_var_8        0\n",
       "user_activity_var_9        0\n",
       "user_activity_var_10       0\n",
       "user_activity_var_11       0\n",
       "user_activity_var_12       0\n",
       "dtype: int64"
      ]
     },
     "execution_count": 122,
     "metadata": {},
     "output_type": "execute_result"
    }
   ],
   "source": [
    "test.isnull().sum() #Checking for null values in test data"
   ]
  },
  {
   "cell_type": "markdown",
   "id": "44dfd65a",
   "metadata": {},
   "source": [
    "# Exploratory Data Analysis"
   ]
  },
  {
   "cell_type": "markdown",
   "id": "b3171ed8",
   "metadata": {},
   "source": [
    "We firstly treat the null data present in the dataset. Both for train and test data.\n",
    "We see that there are 2 columns with the presence of null values for both train and test data."
   ]
  },
  {
   "cell_type": "code",
   "execution_count": 123,
   "id": "34b4def8",
   "metadata": {},
   "outputs": [],
   "source": [
    "#Fill null values in product purchased with 0\n",
    "train['products_purchased'].fillna('0',inplace=True)"
   ]
  },
  {
   "cell_type": "code",
   "execution_count": 124,
   "id": "71a4c96f",
   "metadata": {},
   "outputs": [],
   "source": [
    "#Converting the column into numeric type\n",
    "train['products_purchased'] = train['products_purchased'].apply(pd.to_numeric)"
   ]
  },
  {
   "cell_type": "markdown",
   "id": "bf977841",
   "metadata": {},
   "source": [
    "We will fill the null data in sign up date column with created at column. This we do to unlock the further process of creating a column 'days' that calculates the number of days between the two dates"
   ]
  },
  {
   "cell_type": "code",
   "execution_count": 125,
   "id": "9694c28f",
   "metadata": {},
   "outputs": [],
   "source": [
    "#Filling null values in one column with the data from another\n",
    "train['signup_date'].fillna(train['created_at'], inplace=True)"
   ]
  },
  {
   "cell_type": "code",
   "execution_count": 126,
   "id": "c484b627",
   "metadata": {},
   "outputs": [],
   "source": [
    "#Converting the columns into datetime format for further analysis\n",
    "train['signup_date'] = pd.to_datetime(train['signup_date'], format='%Y-%M-%d')\n",
    "train['created_at'] = pd.to_datetime(train['created_at'], format='%Y-%M-%d')"
   ]
  },
  {
   "cell_type": "code",
   "execution_count": 127,
   "id": "b899129b",
   "metadata": {},
   "outputs": [],
   "source": [
    "#Creating a column for number of days \n",
    "train['Days'] = (train['created_at']-train['signup_date']).dt.days"
   ]
  },
  {
   "cell_type": "markdown",
   "id": "cdc693d7",
   "metadata": {},
   "source": [
    "Now since we took out the days of signed up. Let us drop both the datetime type columns"
   ]
  },
  {
   "cell_type": "code",
   "execution_count": 128,
   "id": "7d27698e",
   "metadata": {},
   "outputs": [],
   "source": [
    "train.drop(columns=['signup_date','created_at'],inplace=True)"
   ]
  },
  {
   "cell_type": "markdown",
   "id": "150e9a48",
   "metadata": {},
   "source": [
    "Similarly we do for the test data"
   ]
  },
  {
   "cell_type": "code",
   "execution_count": 129,
   "id": "5761e816",
   "metadata": {},
   "outputs": [],
   "source": [
    "test['products_purchased'].fillna('0',inplace=True)"
   ]
  },
  {
   "cell_type": "code",
   "execution_count": 130,
   "id": "a4f850e3",
   "metadata": {},
   "outputs": [],
   "source": [
    "test['products_purchased'] = test['products_purchased'].apply(pd.to_numeric)"
   ]
  },
  {
   "cell_type": "code",
   "execution_count": 131,
   "id": "95e338c0",
   "metadata": {},
   "outputs": [],
   "source": [
    "test['signup_date'].fillna(test['created_at'], inplace=True)"
   ]
  },
  {
   "cell_type": "code",
   "execution_count": 132,
   "id": "803e7b8a",
   "metadata": {},
   "outputs": [],
   "source": [
    "test['signup_date'] = pd.to_datetime(test['signup_date'], format='%Y-%M-%d')\n",
    "test['created_at'] = pd.to_datetime(test['created_at'], format='%Y-%M-%d')"
   ]
  },
  {
   "cell_type": "code",
   "execution_count": 133,
   "id": "54dc7080",
   "metadata": {},
   "outputs": [],
   "source": [
    "test['Days'] = (test['created_at']-test['signup_date']).dt.days"
   ]
  },
  {
   "cell_type": "code",
   "execution_count": 134,
   "id": "18af3cdb",
   "metadata": {},
   "outputs": [],
   "source": [
    "test.drop(columns=['signup_date','created_at'],inplace=True)"
   ]
  },
  {
   "cell_type": "markdown",
   "id": "4be6c92c",
   "metadata": {},
   "source": [
    "Checking for null values again"
   ]
  },
  {
   "cell_type": "code",
   "execution_count": 135,
   "id": "17067463",
   "metadata": {},
   "outputs": [
    {
     "data": {
      "text/plain": [
       "id                      0\n",
       "campaign_var_1          0\n",
       "campaign_var_2          0\n",
       "products_purchased      0\n",
       "user_activity_var_1     0\n",
       "user_activity_var_2     0\n",
       "user_activity_var_3     0\n",
       "user_activity_var_4     0\n",
       "user_activity_var_5     0\n",
       "user_activity_var_6     0\n",
       "user_activity_var_7     0\n",
       "user_activity_var_8     0\n",
       "user_activity_var_9     0\n",
       "user_activity_var_10    0\n",
       "user_activity_var_11    0\n",
       "user_activity_var_12    0\n",
       "buy                     0\n",
       "Days                    0\n",
       "dtype: int64"
      ]
     },
     "execution_count": 135,
     "metadata": {},
     "output_type": "execute_result"
    }
   ],
   "source": [
    "train.isnull().sum() #Checking for null values"
   ]
  },
  {
   "cell_type": "code",
   "execution_count": 136,
   "id": "add7ddde",
   "metadata": {},
   "outputs": [
    {
     "data": {
      "text/plain": [
       "id                      0\n",
       "campaign_var_1          0\n",
       "campaign_var_2          0\n",
       "products_purchased      0\n",
       "user_activity_var_1     0\n",
       "user_activity_var_2     0\n",
       "user_activity_var_3     0\n",
       "user_activity_var_4     0\n",
       "user_activity_var_5     0\n",
       "user_activity_var_6     0\n",
       "user_activity_var_7     0\n",
       "user_activity_var_8     0\n",
       "user_activity_var_9     0\n",
       "user_activity_var_10    0\n",
       "user_activity_var_11    0\n",
       "user_activity_var_12    0\n",
       "Days                    0\n",
       "dtype: int64"
      ]
     },
     "execution_count": 136,
     "metadata": {},
     "output_type": "execute_result"
    }
   ],
   "source": [
    "test.isnull().sum() #Checking for null values"
   ]
  },
  {
   "cell_type": "markdown",
   "id": "467f4994",
   "metadata": {},
   "source": [
    "Visual representation for the null values present in the dataset"
   ]
  },
  {
   "cell_type": "code",
   "execution_count": 137,
   "id": "32b0a891",
   "metadata": {},
   "outputs": [
    {
     "data": {
      "text/plain": [
       "<AxesSubplot:>"
      ]
     },
     "execution_count": 137,
     "metadata": {},
     "output_type": "execute_result"
    },
    {
     "data": {
      "image/png": "[encoded data removed]",
      "text/plain": [
       "<Figure size 432x288 with 2 Axes>"
      ]
     },
     "metadata": {
      "needs_background": "light"
     },
     "output_type": "display_data"
    }
   ],
   "source": [
    "#Null value visualization for train data\n",
    "sns.heatmap(train.isnull())"
   ]
  },
  {
   "cell_type": "code",
   "execution_count": 138,
   "id": "a03027a9",
   "metadata": {},
   "outputs": [
    {
     "data": {
      "text/plain": [
       "<AxesSubplot:>"
      ]
     },
     "execution_count": 138,
     "metadata": {},
     "output_type": "execute_result"
    },
    {
     "data": {
      "image/png": "[encoded data removed]",
      "text/plain": [
       "<Figure size 432x288 with 2 Axes>"
      ]
     },
     "metadata": {
      "needs_background": "light"
     },
     "output_type": "display_data"
    }
   ],
   "source": [
    "#Null value visualization for test data\n",
    "sns.heatmap(test.isnull())"
   ]
  },
  {
   "cell_type": "code",
   "execution_count": 139,
   "id": "a224c0ec",
   "metadata": {},
   "outputs": [
    {
     "data": {
      "text/html": [
       "<div>\n",
       "<style scoped>\n",
       "    .dataframe tbody tr th:only-of-type {\n",
       "        vertical-align: middle;\n",
       "    }\n",
       "\n",
       "    .dataframe tbody tr th {\n",
       "        vertical-align: top;\n",
       "    }\n",
       "\n",
       "    .dataframe thead th {\n",
       "        text-align: right;\n",
       "    }\n",
       "</style>\n",
       "<table border=\"1\" class=\"dataframe\">\n",
       "  <thead>\n",
       "    <tr style=\"text-align: right;\">\n",
       "      <th></th>\n",
       "      <th>id</th>\n",
       "      <th>campaign_var_1</th>\n",
       "      <th>campaign_var_2</th>\n",
       "      <th>products_purchased</th>\n",
       "      <th>user_activity_var_1</th>\n",
       "      <th>user_activity_var_2</th>\n",
       "      <th>user_activity_var_3</th>\n",
       "      <th>user_activity_var_4</th>\n",
       "      <th>user_activity_var_5</th>\n",
       "      <th>user_activity_var_6</th>\n",
       "      <th>user_activity_var_7</th>\n",
       "      <th>user_activity_var_8</th>\n",
       "      <th>user_activity_var_9</th>\n",
       "      <th>user_activity_var_10</th>\n",
       "      <th>user_activity_var_11</th>\n",
       "      <th>user_activity_var_12</th>\n",
       "      <th>buy</th>\n",
       "      <th>Days</th>\n",
       "    </tr>\n",
       "  </thead>\n",
       "  <tbody>\n",
       "    <tr>\n",
       "      <th>count</th>\n",
       "      <td>39161.000000</td>\n",
       "      <td>39161.000000</td>\n",
       "      <td>39161.000000</td>\n",
       "      <td>39161.000000</td>\n",
       "      <td>39161.000000</td>\n",
       "      <td>39161.000000</td>\n",
       "      <td>39161.000000</td>\n",
       "      <td>39161.000000</td>\n",
       "      <td>39161.000000</td>\n",
       "      <td>39161.000000</td>\n",
       "      <td>39161.000000</td>\n",
       "      <td>39161.000000</td>\n",
       "      <td>39161.000000</td>\n",
       "      <td>39161.000000</td>\n",
       "      <td>39161.000000</td>\n",
       "      <td>39161.000000</td>\n",
       "      <td>39161.000000</td>\n",
       "      <td>39161.000000</td>\n",
       "    </tr>\n",
       "    <tr>\n",
       "      <th>mean</th>\n",
       "      <td>19581.000000</td>\n",
       "      <td>6.523812</td>\n",
       "      <td>6.452746</td>\n",
       "      <td>1.003881</td>\n",
       "      <td>0.400092</td>\n",
       "      <td>0.006716</td>\n",
       "      <td>0.102832</td>\n",
       "      <td>0.011465</td>\n",
       "      <td>0.151503</td>\n",
       "      <td>0.499834</td>\n",
       "      <td>0.286612</td>\n",
       "      <td>0.174434</td>\n",
       "      <td>0.011440</td>\n",
       "      <td>0.000383</td>\n",
       "      <td>0.218942</td>\n",
       "      <td>0.000562</td>\n",
       "      <td>0.051020</td>\n",
       "      <td>165.500421</td>\n",
       "    </tr>\n",
       "    <tr>\n",
       "      <th>std</th>\n",
       "      <td>11304.951283</td>\n",
       "      <td>3.472944</td>\n",
       "      <td>2.614296</td>\n",
       "      <td>1.199223</td>\n",
       "      <td>0.509194</td>\n",
       "      <td>0.081676</td>\n",
       "      <td>0.303743</td>\n",
       "      <td>0.106463</td>\n",
       "      <td>0.359681</td>\n",
       "      <td>0.558166</td>\n",
       "      <td>0.455784</td>\n",
       "      <td>0.379689</td>\n",
       "      <td>0.106346</td>\n",
       "      <td>0.019568</td>\n",
       "      <td>0.431544</td>\n",
       "      <td>0.023696</td>\n",
       "      <td>0.220042</td>\n",
       "      <td>343.061076</td>\n",
       "    </tr>\n",
       "    <tr>\n",
       "      <th>min</th>\n",
       "      <td>1.000000</td>\n",
       "      <td>1.000000</td>\n",
       "      <td>1.000000</td>\n",
       "      <td>0.000000</td>\n",
       "      <td>0.000000</td>\n",
       "      <td>0.000000</td>\n",
       "      <td>0.000000</td>\n",
       "      <td>0.000000</td>\n",
       "      <td>0.000000</td>\n",
       "      <td>0.000000</td>\n",
       "      <td>0.000000</td>\n",
       "      <td>0.000000</td>\n",
       "      <td>0.000000</td>\n",
       "      <td>0.000000</td>\n",
       "      <td>0.000000</td>\n",
       "      <td>0.000000</td>\n",
       "      <td>0.000000</td>\n",
       "      <td>-394.000000</td>\n",
       "    </tr>\n",
       "    <tr>\n",
       "      <th>25%</th>\n",
       "      <td>9791.000000</td>\n",
       "      <td>4.000000</td>\n",
       "      <td>5.000000</td>\n",
       "      <td>0.000000</td>\n",
       "      <td>0.000000</td>\n",
       "      <td>0.000000</td>\n",
       "      <td>0.000000</td>\n",
       "      <td>0.000000</td>\n",
       "      <td>0.000000</td>\n",
       "      <td>0.000000</td>\n",
       "      <td>0.000000</td>\n",
       "      <td>0.000000</td>\n",
       "      <td>0.000000</td>\n",
       "      <td>0.000000</td>\n",
       "      <td>0.000000</td>\n",
       "      <td>0.000000</td>\n",
       "      <td>0.000000</td>\n",
       "      <td>0.000000</td>\n",
       "    </tr>\n",
       "    <tr>\n",
       "      <th>50%</th>\n",
       "      <td>19581.000000</td>\n",
       "      <td>6.000000</td>\n",
       "      <td>6.000000</td>\n",
       "      <td>0.000000</td>\n",
       "      <td>0.000000</td>\n",
       "      <td>0.000000</td>\n",
       "      <td>0.000000</td>\n",
       "      <td>0.000000</td>\n",
       "      <td>0.000000</td>\n",
       "      <td>0.000000</td>\n",
       "      <td>0.000000</td>\n",
       "      <td>0.000000</td>\n",
       "      <td>0.000000</td>\n",
       "      <td>0.000000</td>\n",
       "      <td>0.000000</td>\n",
       "      <td>0.000000</td>\n",
       "      <td>0.000000</td>\n",
       "      <td>0.000000</td>\n",
       "    </tr>\n",
       "    <tr>\n",
       "      <th>75%</th>\n",
       "      <td>29371.000000</td>\n",
       "      <td>9.000000</td>\n",
       "      <td>8.000000</td>\n",
       "      <td>2.000000</td>\n",
       "      <td>1.000000</td>\n",
       "      <td>0.000000</td>\n",
       "      <td>0.000000</td>\n",
       "      <td>0.000000</td>\n",
       "      <td>0.000000</td>\n",
       "      <td>1.000000</td>\n",
       "      <td>1.000000</td>\n",
       "      <td>0.000000</td>\n",
       "      <td>0.000000</td>\n",
       "      <td>0.000000</td>\n",
       "      <td>0.000000</td>\n",
       "      <td>0.000000</td>\n",
       "      <td>0.000000</td>\n",
       "      <td>362.000000</td>\n",
       "    </tr>\n",
       "    <tr>\n",
       "      <th>max</th>\n",
       "      <td>39161.000000</td>\n",
       "      <td>16.000000</td>\n",
       "      <td>15.000000</td>\n",
       "      <td>4.000000</td>\n",
       "      <td>3.000000</td>\n",
       "      <td>1.000000</td>\n",
       "      <td>1.000000</td>\n",
       "      <td>1.000000</td>\n",
       "      <td>2.000000</td>\n",
       "      <td>3.000000</td>\n",
       "      <td>2.000000</td>\n",
       "      <td>2.000000</td>\n",
       "      <td>1.000000</td>\n",
       "      <td>1.000000</td>\n",
       "      <td>4.000000</td>\n",
       "      <td>1.000000</td>\n",
       "      <td>1.000000</td>\n",
       "      <td>2211.000000</td>\n",
       "    </tr>\n",
       "  </tbody>\n",
       "</table>\n",
       "</div>"
      ],
      "text/plain": [
       "                 id  campaign_var_1  campaign_var_2  products_purchased  \\\n",
       "count  39161.000000    39161.000000    39161.000000        39161.000000   \n",
       "mean   19581.000000        6.523812        6.452746            1.003881   \n",
       "std    11304.951283        3.472944        2.614296            1.199223   \n",
       "min        1.000000        1.000000        1.000000            0.000000   \n",
       "25%     9791.000000        4.000000        5.000000            0.000000   \n",
       "50%    19581.000000        6.000000        6.000000            0.000000   \n",
       "75%    29371.000000        9.000000        8.000000            2.000000   \n",
       "max    39161.000000       16.000000       15.000000            4.000000   \n",
       "\n",
       "       user_activity_var_1  user_activity_var_2  user_activity_var_3  \\\n",
       "count         39161.000000         39161.000000         39161.000000   \n",
       "mean              0.400092             0.006716             0.102832   \n",
       "std               0.509194             0.081676             0.303743   \n",
       "min               0.000000             0.000000             0.000000   \n",
       "25%               0.000000             0.000000             0.000000   \n",
       "50%               0.000000             0.000000             0.000000   \n",
       "75%               1.000000             0.000000             0.000000   \n",
       "max               3.000000             1.000000             1.000000   \n",
       "\n",
       "       user_activity_var_4  user_activity_var_5  user_activity_var_6  \\\n",
       "count         39161.000000         39161.000000         39161.000000   \n",
       "mean              0.011465             0.151503             0.499834   \n",
       "std               0.106463             0.359681             0.558166   \n",
       "min               0.000000             0.000000             0.000000   \n",
       "25%               0.000000             0.000000             0.000000   \n",
       "50%               0.000000             0.000000             0.000000   \n",
       "75%               0.000000             0.000000             1.000000   \n",
       "max               1.000000             2.000000             3.000000   \n",
       "\n",
       "       user_activity_var_7  user_activity_var_8  user_activity_var_9  \\\n",
       "count         39161.000000         39161.000000         39161.000000   \n",
       "mean              0.286612             0.174434             0.011440   \n",
       "std               0.455784             0.379689             0.106346   \n",
       "min               0.000000             0.000000             0.000000   \n",
       "25%               0.000000             0.000000             0.000000   \n",
       "50%               0.000000             0.000000             0.000000   \n",
       "75%               1.000000             0.000000             0.000000   \n",
       "max               2.000000             2.000000             1.000000   \n",
       "\n",
       "       user_activity_var_10  user_activity_var_11  user_activity_var_12  \\\n",
       "count          39161.000000          39161.000000          39161.000000   \n",
       "mean               0.000383              0.218942              0.000562   \n",
       "std                0.019568              0.431544              0.023696   \n",
       "min                0.000000              0.000000              0.000000   \n",
       "25%                0.000000              0.000000              0.000000   \n",
       "50%                0.000000              0.000000              0.000000   \n",
       "75%                0.000000              0.000000              0.000000   \n",
       "max                1.000000              4.000000              1.000000   \n",
       "\n",
       "                buy          Days  \n",
       "count  39161.000000  39161.000000  \n",
       "mean       0.051020    165.500421  \n",
       "std        0.220042    343.061076  \n",
       "min        0.000000   -394.000000  \n",
       "25%        0.000000      0.000000  \n",
       "50%        0.000000      0.000000  \n",
       "75%        0.000000    362.000000  \n",
       "max        1.000000   2211.000000  "
      ]
     },
     "execution_count": 139,
     "metadata": {},
     "output_type": "execute_result"
    }
   ],
   "source": [
    "#Statistical representation of the data\n",
    "train.describe() "
   ]
  },
  {
   "cell_type": "markdown",
   "id": "b3e71e41",
   "metadata": {},
   "source": [
    "We see that the column 'id' is unique to every row for both train and test data and hence we shall drop this column for better model"
   ]
  },
  {
   "cell_type": "code",
   "execution_count": 140,
   "id": "fac7ffb5",
   "metadata": {},
   "outputs": [],
   "source": [
    "#Drop the column 'id'\n",
    "train2 = train.drop(columns='id')\n",
    "test2 = test.drop(columns='id')"
   ]
  },
  {
   "cell_type": "markdown",
   "id": "87536eb6",
   "metadata": {},
   "source": [
    "# Correlation"
   ]
  },
  {
   "cell_type": "code",
   "execution_count": 141,
   "id": "ecb69720",
   "metadata": {},
   "outputs": [
    {
     "data": {
      "image/png": "[encoded data removed]",
      "text/plain": [
       "<Figure size 1440x1440 with 2 Axes>"
      ]
     },
     "metadata": {
      "needs_background": "light"
     },
     "output_type": "display_data"
    }
   ],
   "source": [
    "#COrrelation matrix visualization\n",
    "plt.figure(figsize=(20,20))\n",
    "sns.heatmap(train2.corr(),annot=True)\n",
    "plt.show()"
   ]
  },
  {
   "cell_type": "code",
   "execution_count": 142,
   "id": "ffc5db8a",
   "metadata": {},
   "outputs": [
    {
     "data": {
      "text/plain": [
       "campaign_var_1         -0.087202\n",
       "campaign_var_2         -0.080064\n",
       "products_purchased      0.005830\n",
       "user_activity_var_1     0.044811\n",
       "user_activity_var_2     0.354627\n",
       "user_activity_var_3     0.005174\n",
       "user_activity_var_4     0.394706\n",
       "user_activity_var_5     0.164972\n",
       "user_activity_var_6    -0.010951\n",
       "user_activity_var_7    -0.028428\n",
       "user_activity_var_8    -0.097355\n",
       "user_activity_var_9     0.463947\n",
       "user_activity_var_10    0.084423\n",
       "user_activity_var_11    0.267995\n",
       "user_activity_var_12    0.067967\n",
       "buy                     1.000000\n",
       "Days                    0.151691\n",
       "Name: buy, dtype: float64"
      ]
     },
     "execution_count": 142,
     "metadata": {},
     "output_type": "execute_result"
    }
   ],
   "source": [
    "#Correlation matrix wrt target column\n",
    "train2.corr()['buy']"
   ]
  },
  {
   "cell_type": "markdown",
   "id": "91dcb81c",
   "metadata": {},
   "source": [
    "# Splitting the dataset"
   ]
  },
  {
   "cell_type": "code",
   "execution_count": 143,
   "id": "dcf55e6e",
   "metadata": {},
   "outputs": [],
   "source": [
    "#Splitting the train dataset into taget and feature variables\n",
    "x = train2.drop(columns='buy') #Feature variable\n",
    "y = train2['buy']              #Target variable\n",
    "\n",
    "#Assigning variable for prediction data\n",
    "x2 = test2 "
   ]
  },
  {
   "cell_type": "markdown",
   "id": "616b1265",
   "metadata": {},
   "source": [
    "# Scaling"
   ]
  },
  {
   "cell_type": "code",
   "execution_count": 144,
   "id": "69247625",
   "metadata": {},
   "outputs": [],
   "source": [
    "#Scaling using Standard Scaler\n",
    "sc = StandardScaler()\n",
    "cols = x.columns\n",
    "x = pd.DataFrame(sc.fit_transform(x), columns=cols)"
   ]
  },
  {
   "cell_type": "markdown",
   "id": "e7c0a83c",
   "metadata": {},
   "source": [
    "# Best Random State"
   ]
  },
  {
   "cell_type": "code",
   "execution_count": 145,
   "id": "55185ac9",
   "metadata": {},
   "outputs": [
    {
     "name": "stdout",
     "output_type": "stream",
     "text": [
      "Max accuracy: \t 0.7091757387247279\n",
      "Random State: \t 42\n"
     ]
    }
   ],
   "source": [
    "maxRS = 0\n",
    "maxAcc = 0\n",
    "for i in range(0,100):\n",
    "    x_train, x_test, y_train, y_test = train_test_split(x, y, test_size=0.20, random_state=i)\n",
    "    lr = LogisticRegression(max_iter=100)\n",
    "    lr.fit(x_train,y_train)\n",
    "    pred = lr.predict(x_test)\n",
    "    acc = f1_score(y_test, pred)\n",
    "    if acc>maxAcc:\n",
    "        maxAcc = acc\n",
    "        maxRS = i\n",
    "print(\"Max accuracy: \\t\", maxAcc)\n",
    "print(\"Random State: \\t\", maxRS)"
   ]
  },
  {
   "cell_type": "markdown",
   "id": "6aced22b",
   "metadata": {},
   "source": [
    "Now since we got the best random state for data modelling, we create the test train models"
   ]
  },
  {
   "cell_type": "code",
   "execution_count": 146,
   "id": "bf803319",
   "metadata": {},
   "outputs": [],
   "source": [
    "x_train, x_test, y_train, y_test = train_test_split(x, y, test_size=0.20, random_state=maxRS)"
   ]
  },
  {
   "cell_type": "markdown",
   "id": "60d310b0",
   "metadata": {},
   "source": [
    "# Upsample"
   ]
  },
  {
   "cell_type": "code",
   "execution_count": 147,
   "id": "3f45dbd3",
   "metadata": {},
   "outputs": [],
   "source": [
    "U = pd.concat([x_train,y_train], axis=1) #Joining the train dataset"
   ]
  },
  {
   "cell_type": "code",
   "execution_count": 149,
   "id": "d42f05e0",
   "metadata": {},
   "outputs": [],
   "source": [
    "no = U[U['buy']==0]\n",
    "yes = U[U['buy']==1]"
   ]
  },
  {
   "cell_type": "code",
   "execution_count": 150,
   "id": "a2fac6d0",
   "metadata": {},
   "outputs": [],
   "source": [
    "upsample = resample(yes,\n",
    "                    replace=True, #Sample with replacement\n",
    "                    n_samples=len(no), #matching with the majority class\n",
    "                    random_state=48) #Reproductible results\n"
   ]
  },
  {
   "cell_type": "code",
   "execution_count": 151,
   "id": "b84a2252",
   "metadata": {},
   "outputs": [
    {
     "data": {
      "text/plain": [
       "0    29733\n",
       "1    29733\n",
       "Name: buy, dtype: int64"
      ]
     },
     "execution_count": 151,
     "metadata": {},
     "output_type": "execute_result"
    }
   ],
   "source": [
    "new_U = pd.concat([no,upsample])\n",
    "new_U['buy'].value_counts()"
   ]
  },
  {
   "cell_type": "code",
   "execution_count": 152,
   "id": "fc46b67f",
   "metadata": {},
   "outputs": [],
   "source": [
    "x_train = new_U.drop(columns='buy')\n",
    "y_train = new_U['buy']"
   ]
  },
  {
   "cell_type": "markdown",
   "id": "39cef81b",
   "metadata": {},
   "source": [
    "# Model Predictions"
   ]
  },
  {
   "cell_type": "markdown",
   "id": "2e1b6089",
   "metadata": {},
   "source": [
    "Logistic Regression"
   ]
  },
  {
   "cell_type": "code",
   "execution_count": 153,
   "id": "4170fd9b",
   "metadata": {},
   "outputs": [
    {
     "name": "stdout",
     "output_type": "stream",
     "text": [
      "Accuracy: \t 40.70904645476773\n",
      "[[6530  900]\n",
      " [  70  333]]\n",
      "              precision    recall  f1-score   support\n",
      "\n",
      "           0       0.99      0.88      0.93      7430\n",
      "           1       0.27      0.83      0.41       403\n",
      "\n",
      "    accuracy                           0.88      7833\n",
      "   macro avg       0.63      0.85      0.67      7833\n",
      "weighted avg       0.95      0.88      0.90      7833\n",
      "\n"
     ]
    }
   ],
   "source": [
    "lr = LogisticRegression()\n",
    "lr.fit(x_train,y_train)\n",
    "pred = lr.predict(x_test)\n",
    "print(\"Accuracy: \\t\", f1_score(y_test,pred)*100)\n",
    "print(confusion_matrix(y_test,pred))\n",
    "print(classification_report(y_test,pred))"
   ]
  },
  {
   "cell_type": "markdown",
   "id": "2e5f4f03",
   "metadata": {},
   "source": [
    "K-Nearest Neighbors"
   ]
  },
  {
   "cell_type": "code",
   "execution_count": 154,
   "id": "4fb8d502",
   "metadata": {},
   "outputs": [
    {
     "name": "stdout",
     "output_type": "stream",
     "text": [
      "Accuracy: \t 51.26353790613718\n",
      "[[7009  421]\n",
      " [ 119  284]]\n",
      "              precision    recall  f1-score   support\n",
      "\n",
      "           0       0.98      0.94      0.96      7430\n",
      "           1       0.40      0.70      0.51       403\n",
      "\n",
      "    accuracy                           0.93      7833\n",
      "   macro avg       0.69      0.82      0.74      7833\n",
      "weighted avg       0.95      0.93      0.94      7833\n",
      "\n"
     ]
    }
   ],
   "source": [
    "knn = KNeighborsClassifier()\n",
    "knn.fit(x_train,y_train)\n",
    "pred = knn.predict(x_test)\n",
    "print(\"Accuracy: \\t\", f1_score(y_test,pred)*100)\n",
    "print(confusion_matrix(y_test,pred))\n",
    "print(classification_report(y_test,pred))"
   ]
  },
  {
   "cell_type": "markdown",
   "id": "8f421065",
   "metadata": {},
   "source": [
    "Support Vector Classifier"
   ]
  },
  {
   "cell_type": "code",
   "execution_count": 155,
   "id": "f94df4d8",
   "metadata": {},
   "outputs": [
    {
     "name": "stdout",
     "output_type": "stream",
     "text": [
      "Accuracy: \t 45.93639575971731\n",
      "[[6743  687]\n",
      " [  78  325]]\n",
      "              precision    recall  f1-score   support\n",
      "\n",
      "           0       0.99      0.91      0.95      7430\n",
      "           1       0.32      0.81      0.46       403\n",
      "\n",
      "    accuracy                           0.90      7833\n",
      "   macro avg       0.65      0.86      0.70      7833\n",
      "weighted avg       0.95      0.90      0.92      7833\n",
      "\n"
     ]
    }
   ],
   "source": [
    "svc = SVC()\n",
    "svc.fit(x_train,y_train)\n",
    "pred = svc.predict(x_test)\n",
    "print(\"Accuracy: \\t\", f1_score(y_test,pred)*100)\n",
    "print(confusion_matrix(y_test,pred))\n",
    "print(classification_report(y_test,pred))"
   ]
  },
  {
   "cell_type": "markdown",
   "id": "1bba812c",
   "metadata": {},
   "source": [
    "Random Forest Classifier"
   ]
  },
  {
   "cell_type": "code",
   "execution_count": 156,
   "id": "768ed005",
   "metadata": {},
   "outputs": [
    {
     "name": "stdout",
     "output_type": "stream",
     "text": [
      "Accuracy: \t 67.12328767123287\n",
      "[[7348   82]\n",
      " [ 158  245]]\n",
      "              precision    recall  f1-score   support\n",
      "\n",
      "           0       0.98      0.99      0.98      7430\n",
      "           1       0.75      0.61      0.67       403\n",
      "\n",
      "    accuracy                           0.97      7833\n",
      "   macro avg       0.86      0.80      0.83      7833\n",
      "weighted avg       0.97      0.97      0.97      7833\n",
      "\n"
     ]
    }
   ],
   "source": [
    "rf = RandomForestClassifier()\n",
    "rf.fit(x_train,y_train)\n",
    "pred = rf.predict(x_test)\n",
    "print(\"Accuracy: \\t\", f1_score(y_test,pred)*100)\n",
    "print(confusion_matrix(y_test,pred))\n",
    "print(classification_report(y_test,pred))"
   ]
  },
  {
   "cell_type": "markdown",
   "id": "21c5bc58",
   "metadata": {},
   "source": [
    "Decision Tree Classifier"
   ]
  },
  {
   "cell_type": "code",
   "execution_count": 157,
   "id": "bcebfc0b",
   "metadata": {},
   "outputs": [
    {
     "name": "stdout",
     "output_type": "stream",
     "text": [
      "Accuracy: \t 58.28295042321645\n",
      "[[7247  183]\n",
      " [ 162  241]]\n",
      "              precision    recall  f1-score   support\n",
      "\n",
      "           0       0.98      0.98      0.98      7430\n",
      "           1       0.57      0.60      0.58       403\n",
      "\n",
      "    accuracy                           0.96      7833\n",
      "   macro avg       0.77      0.79      0.78      7833\n",
      "weighted avg       0.96      0.96      0.96      7833\n",
      "\n"
     ]
    }
   ],
   "source": [
    "dtt = DecisionTreeClassifier()\n",
    "dtt.fit(x_train,y_train)\n",
    "pred = dtt.predict(x_test)\n",
    "print(\"Accuracy: \\t\", f1_score(y_test,pred)*100)\n",
    "print(confusion_matrix(y_test,pred))\n",
    "print(classification_report(y_test,pred))"
   ]
  },
  {
   "cell_type": "markdown",
   "id": "a689892a",
   "metadata": {},
   "source": [
    "XGB Classifier"
   ]
  },
  {
   "cell_type": "code",
   "execution_count": 158,
   "id": "fcf620d1",
   "metadata": {},
   "outputs": [
    {
     "name": "stdout",
     "output_type": "stream",
     "text": [
      "[18:15:41] WARNING: C:/Users/Administrator/workspace/xgboost-win64_release_1.5.1/src/learner.cc:1115: Starting in XGBoost 1.3.0, the default evaluation metric used with the objective 'binary:logistic' was changed from 'error' to 'logloss'. Explicitly set eval_metric if you'd like to restore the old behavior.\n",
      "Accuracy: \t 53.33333333333334\n",
      "[[6964  466]\n",
      " [  87  316]]\n",
      "              precision    recall  f1-score   support\n",
      "\n",
      "           0       0.99      0.94      0.96      7430\n",
      "           1       0.40      0.78      0.53       403\n",
      "\n",
      "    accuracy                           0.93      7833\n",
      "   macro avg       0.70      0.86      0.75      7833\n",
      "weighted avg       0.96      0.93      0.94      7833\n",
      "\n"
     ]
    }
   ],
   "source": [
    "xgb = XGBClassifier()\n",
    "xgb.fit(x_train,y_train)\n",
    "pred = xgb.predict(x_test)\n",
    "print(\"Accuracy: \\t\", f1_score(y_test,pred)*100)\n",
    "print(confusion_matrix(y_test,pred))\n",
    "print(classification_report(y_test,pred))"
   ]
  },
  {
   "cell_type": "markdown",
   "id": "87e8a139",
   "metadata": {},
   "source": [
    "We see that 'Random Forest Classifier' model performs the best with 67.12%"
   ]
  },
  {
   "cell_type": "markdown",
   "id": "fa31a838",
   "metadata": {},
   "source": [
    "# Cross Validation"
   ]
  },
  {
   "cell_type": "code",
   "execution_count": 159,
   "id": "0e260b6b",
   "metadata": {},
   "outputs": [
    {
     "name": "stdout",
     "output_type": "stream",
     "text": [
      "Cross validation score of Logistic Regression is: \t 0.9731621129119397\n"
     ]
    }
   ],
   "source": [
    "scr1 = cross_val_score(lr, x, y, cv=5)\n",
    "print(\"Cross validation score of Logistic Regression is: \\t\", scr1.mean())"
   ]
  },
  {
   "cell_type": "code",
   "execution_count": 160,
   "id": "e7618e78",
   "metadata": {},
   "outputs": [
    {
     "name": "stdout",
     "output_type": "stream",
     "text": [
      "Cross validation score of KNN is: \t 0.9729578326002702\n"
     ]
    }
   ],
   "source": [
    "scr2 = cross_val_score(knn, x, y, cv=5)\n",
    "print(\"Cross validation score of KNN is: \\t\", scr2.mean())"
   ]
  },
  {
   "cell_type": "code",
   "execution_count": 161,
   "id": "e8a65735",
   "metadata": {},
   "outputs": [
    {
     "name": "stdout",
     "output_type": "stream",
     "text": [
      "Cross validation score of SVC is: \t 0.9748985363122185\n"
     ]
    }
   ],
   "source": [
    "scr3 = cross_val_score(svc, x, y, cv=5)\n",
    "print(\"Cross validation score of SVC is: \\t\", scr3.mean())"
   ]
  },
  {
   "cell_type": "code",
   "execution_count": 162,
   "id": "4424371b",
   "metadata": {},
   "outputs": [
    {
     "name": "stdout",
     "output_type": "stream",
     "text": [
      "Cross validation score of Decision Tree is: \t 0.9534232119759427\n"
     ]
    }
   ],
   "source": [
    "scr4 = cross_val_score(dtt, x, y, cv=5)\n",
    "print(\"Cross validation score of Decision Tree is: \\t\", scr4.mean())"
   ]
  },
  {
   "cell_type": "code",
   "execution_count": 163,
   "id": "77c2ca07",
   "metadata": {},
   "outputs": [
    {
     "name": "stdout",
     "output_type": "stream",
     "text": [
      "Cross validation score of Random Forest is: \t 0.9729067894180705\n"
     ]
    }
   ],
   "source": [
    "scr5 = cross_val_score(rf, x, y, cv=5)\n",
    "print(\"Cross validation score of Random Forest is: \\t\", scr5.mean())"
   ]
  },
  {
   "cell_type": "code",
   "execution_count": 164,
   "id": "ba5f0284",
   "metadata": {},
   "outputs": [
    {
     "name": "stdout",
     "output_type": "stream",
     "text": [
      "[18:19:09] WARNING: C:/Users/Administrator/workspace/xgboost-win64_release_1.5.1/src/learner.cc:1115: Starting in XGBoost 1.3.0, the default evaluation metric used with the objective 'binary:logistic' was changed from 'error' to 'logloss'. Explicitly set eval_metric if you'd like to restore the old behavior.\n",
      "[18:19:12] WARNING: C:/Users/Administrator/workspace/xgboost-win64_release_1.5.1/src/learner.cc:1115: Starting in XGBoost 1.3.0, the default evaluation metric used with the objective 'binary:logistic' was changed from 'error' to 'logloss'. Explicitly set eval_metric if you'd like to restore the old behavior.\n",
      "[18:19:16] WARNING: C:/Users/Administrator/workspace/xgboost-win64_release_1.5.1/src/learner.cc:1115: Starting in XGBoost 1.3.0, the default evaluation metric used with the objective 'binary:logistic' was changed from 'error' to 'logloss'. Explicitly set eval_metric if you'd like to restore the old behavior.\n",
      "[18:19:19] WARNING: C:/Users/Administrator/workspace/xgboost-win64_release_1.5.1/src/learner.cc:1115: Starting in XGBoost 1.3.0, the default evaluation metric used with the objective 'binary:logistic' was changed from 'error' to 'logloss'. Explicitly set eval_metric if you'd like to restore the old behavior.\n",
      "[18:19:23] WARNING: C:/Users/Administrator/workspace/xgboost-win64_release_1.5.1/src/learner.cc:1115: Starting in XGBoost 1.3.0, the default evaluation metric used with the objective 'binary:logistic' was changed from 'error' to 'logloss'. Explicitly set eval_metric if you'd like to restore the old behavior.\n",
      "Cross validation score of XGBoost is: \t 0.9740303621030794\n"
     ]
    }
   ],
   "source": [
    "scr6 = cross_val_score(xgb, x, y, cv=5)\n",
    "print(\"Cross validation score of XGBoost is: \\t\", scr6.mean())"
   ]
  },
  {
   "cell_type": "markdown",
   "id": "fcd939be",
   "metadata": {},
   "source": [
    "We can see that 'Random Forest' performs comparitively good with very little difference."
   ]
  },
  {
   "cell_type": "markdown",
   "id": "6e259ebd",
   "metadata": {},
   "source": [
    "# Hyper Parameter Tuning"
   ]
  },
  {
   "cell_type": "code",
   "execution_count": 165,
   "id": "936bc836",
   "metadata": {},
   "outputs": [
    {
     "data": {
      "text/plain": [
       "{'bootstrap': True,\n",
       " 'ccp_alpha': 0.0,\n",
       " 'class_weight': None,\n",
       " 'criterion': 'gini',\n",
       " 'max_depth': None,\n",
       " 'max_features': 'auto',\n",
       " 'max_leaf_nodes': None,\n",
       " 'max_samples': None,\n",
       " 'min_impurity_decrease': 0.0,\n",
       " 'min_samples_leaf': 1,\n",
       " 'min_samples_split': 2,\n",
       " 'min_weight_fraction_leaf': 0.0,\n",
       " 'n_estimators': 100,\n",
       " 'n_jobs': None,\n",
       " 'oob_score': False,\n",
       " 'random_state': None,\n",
       " 'verbose': 0,\n",
       " 'warm_start': False}"
      ]
     },
     "execution_count": 165,
     "metadata": {},
     "output_type": "execute_result"
    }
   ],
   "source": [
    "#Getting the parameters for the model\n",
    "GridSearchCV.get_params(rf)"
   ]
  },
  {
   "cell_type": "code",
   "execution_count": 169,
   "id": "52ce669a",
   "metadata": {},
   "outputs": [],
   "source": [
    "#Initiating the required parameters\n",
    "parameters = {'bootstrap': [True,False],\n",
    "              'max_depth': [10, 20, 30, None],\n",
    "              'max_features': ['auto', 'sqrt'],\n",
    "              'min_samples_leaf': [1, 2, 4],\n",
    "              'min_samples_split': [2, 5, 10],\n",
    "              'n_estimators': [100, 200, 400]}"
   ]
  },
  {
   "cell_type": "code",
   "execution_count": 170,
   "id": "86f72470",
   "metadata": {},
   "outputs": [],
   "source": [
    "#Applying the selected parameters\n",
    "gcv = GridSearchCV(rf, parameters, cv=5, scoring='f1')"
   ]
  },
  {
   "cell_type": "code",
   "execution_count": 171,
   "id": "5b526f92",
   "metadata": {},
   "outputs": [
    {
     "data": {
      "text/plain": [
       "GridSearchCV(cv=5, estimator=RandomForestClassifier(),\n",
       "             param_grid={'bootstrap': [True], 'max_depth': [10, None],\n",
       "                         'min_samples_leaf': [1], 'min_samples_split': [2],\n",
       "                         'n_estimators': [200, 100]},\n",
       "             scoring='f1')"
      ]
     },
     "execution_count": 171,
     "metadata": {},
     "output_type": "execute_result"
    }
   ],
   "source": [
    "#Training the tuned model\n",
    "gcv.fit(x_train,y_train)"
   ]
  },
  {
   "cell_type": "code",
   "execution_count": 172,
   "id": "c903b5f3",
   "metadata": {},
   "outputs": [
    {
     "data": {
      "text/plain": [
       "{'bootstrap': True,\n",
       " 'max_depth': None,\n",
       " 'min_samples_leaf': 1,\n",
       " 'min_samples_split': 2,\n",
       " 'n_estimators': 100}"
      ]
     },
     "execution_count": 172,
     "metadata": {},
     "output_type": "execute_result"
    }
   ],
   "source": [
    "#Best parameters for the model\n",
    "gcv.best_params_"
   ]
  },
  {
   "cell_type": "code",
   "execution_count": 174,
   "id": "5b0f7a72",
   "metadata": {},
   "outputs": [],
   "source": [
    "#Initiating the new model with tuned parameters\n",
    "rf2 = RandomForestClassifier(**gcv.best_params_)"
   ]
  },
  {
   "cell_type": "code",
   "execution_count": 175,
   "id": "e3588d61",
   "metadata": {},
   "outputs": [
    {
     "data": {
      "text/plain": [
       "RandomForestClassifier()"
      ]
     },
     "execution_count": 175,
     "metadata": {},
     "output_type": "execute_result"
    }
   ],
   "source": [
    "rf2.fit(x_train,y_train)"
   ]
  },
  {
   "cell_type": "code",
   "execution_count": 176,
   "id": "fcf37a2c",
   "metadata": {},
   "outputs": [
    {
     "data": {
      "text/plain": [
       "0.6729986431478969"
      ]
     },
     "execution_count": 176,
     "metadata": {},
     "output_type": "execute_result"
    }
   ],
   "source": [
    "#Calculating the score\n",
    "pred = rf2.predict(x_test)\n",
    "f1_score(y_test,pred)"
   ]
  },
  {
   "cell_type": "markdown",
   "id": "00b7335e",
   "metadata": {},
   "source": [
    "We see that the f1 score increased slightly to 67.29%"
   ]
  },
  {
   "cell_type": "markdown",
   "id": "7d2a7618",
   "metadata": {},
   "source": [
    "# ROC Curve"
   ]
  },
  {
   "cell_type": "markdown",
   "id": "0ca88fb7",
   "metadata": {},
   "source": [
    "Plotting the ROC curve to understand the result better"
   ]
  },
  {
   "cell_type": "code",
   "execution_count": 177,
   "id": "7ebd835a",
   "metadata": {},
   "outputs": [
    {
     "data": {
      "image/png": "[encoded data removed]",
      "text/plain": [
       "<Figure size 432x288 with 1 Axes>"
      ]
     },
     "metadata": {
      "needs_background": "light"
     },
     "output_type": "display_data"
    }
   ],
   "source": [
    "plot_roc_curve(rf2,x_test,y_test)\n",
    "plt.title(\"ROC AUC plot\")\n",
    "plt.show()"
   ]
  },
  {
   "cell_type": "markdown",
   "id": "ad8bb980",
   "metadata": {},
   "source": [
    "AUC score of 93% is very good."
   ]
  },
  {
   "cell_type": "markdown",
   "id": "ffc3ff1b",
   "metadata": {},
   "source": [
    "# Saving the best model"
   ]
  },
  {
   "cell_type": "code",
   "execution_count": 178,
   "id": "cf9bedea",
   "metadata": {},
   "outputs": [
    {
     "data": {
      "text/plain": [
       "['rebuy.pkl']"
      ]
     },
     "execution_count": 178,
     "metadata": {},
     "output_type": "execute_result"
    }
   ],
   "source": [
    "#Saving the best model using pickle\n",
    "joblib.dump(rf2,\"rebuy.pkl\")"
   ]
  },
  {
   "cell_type": "markdown",
   "id": "88441340",
   "metadata": {},
   "source": [
    "# Predictions"
   ]
  },
  {
   "cell_type": "markdown",
   "id": "bb246186",
   "metadata": {},
   "source": [
    "Making predictions for the test data using the best model"
   ]
  },
  {
   "cell_type": "code",
   "execution_count": 179,
   "id": "b0415804",
   "metadata": {},
   "outputs": [],
   "source": [
    "#Making predictions\n",
    "final_predictions = rf2.predict(x2)"
   ]
  },
  {
   "cell_type": "code",
   "execution_count": 180,
   "id": "2d6f9e67",
   "metadata": {},
   "outputs": [],
   "source": [
    "#Creating a dataframe of the predicted data\n",
    "sheet1 = test['id']\n",
    "sheet2 = pd.Series(final_predictions)"
   ]
  },
  {
   "cell_type": "code",
   "execution_count": 181,
   "id": "519f433a",
   "metadata": {},
   "outputs": [],
   "source": [
    "final = pd.DataFrame({'id':sheet1,\n",
    "                     'buy':sheet2})"
   ]
  },
  {
   "cell_type": "code",
   "execution_count": 182,
   "id": "29efd38f",
   "metadata": {},
   "outputs": [
    {
     "data": {
      "text/html": [
       "<div>\n",
       "<style scoped>\n",
       "    .dataframe tbody tr th:only-of-type {\n",
       "        vertical-align: middle;\n",
       "    }\n",
       "\n",
       "    .dataframe tbody tr th {\n",
       "        vertical-align: top;\n",
       "    }\n",
       "\n",
       "    .dataframe thead th {\n",
       "        text-align: right;\n",
       "    }\n",
       "</style>\n",
       "<table border=\"1\" class=\"dataframe\">\n",
       "  <thead>\n",
       "    <tr style=\"text-align: right;\">\n",
       "      <th></th>\n",
       "      <th>id</th>\n",
       "      <th>buy</th>\n",
       "    </tr>\n",
       "  </thead>\n",
       "  <tbody>\n",
       "    <tr>\n",
       "      <th>0</th>\n",
       "      <td>39162</td>\n",
       "      <td>0</td>\n",
       "    </tr>\n",
       "    <tr>\n",
       "      <th>1</th>\n",
       "      <td>39163</td>\n",
       "      <td>0</td>\n",
       "    </tr>\n",
       "    <tr>\n",
       "      <th>2</th>\n",
       "      <td>39164</td>\n",
       "      <td>0</td>\n",
       "    </tr>\n",
       "    <tr>\n",
       "      <th>3</th>\n",
       "      <td>39165</td>\n",
       "      <td>0</td>\n",
       "    </tr>\n",
       "    <tr>\n",
       "      <th>4</th>\n",
       "      <td>39166</td>\n",
       "      <td>0</td>\n",
       "    </tr>\n",
       "  </tbody>\n",
       "</table>\n",
       "</div>"
      ],
      "text/plain": [
       "      id  buy\n",
       "0  39162    0\n",
       "1  39163    0\n",
       "2  39164    0\n",
       "3  39165    0\n",
       "4  39166    0"
      ]
     },
     "execution_count": 182,
     "metadata": {},
     "output_type": "execute_result"
    }
   ],
   "source": [
    "final.head()"
   ]
  },
  {
   "cell_type": "code",
   "execution_count": 183,
   "id": "f594f3c2",
   "metadata": {},
   "outputs": [],
   "source": [
    "#Creating a csv file for the data\n",
    "final.to_csv('result_smartlead.csv')"
   ]
  },
  {
   "cell_type": "code",
   "execution_count": null,
   "id": "31faf45f",
   "metadata": {},
   "outputs": [],
   "source": []
  }
 ],
 "metadata": {
  "kernelspec": {
   "display_name": "Python 3",
   "language": "python",
   "name": "python3"
  },
  "language_info": {
   "codemirror_mode": {
    "name": "ipython",
    "version": 3
   },
   "file_extension": ".py",
   "mimetype": "text/x-python",
   "name": "python",
   "nbconvert_exporter": "python",
   "pygments_lexer": "ipython3",
   "version": "3.8.8"
  }
 },
 "nbformat": 4,
 "nbformat_minor": 5
}
